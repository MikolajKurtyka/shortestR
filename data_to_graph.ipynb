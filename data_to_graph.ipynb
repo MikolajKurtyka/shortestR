{
 "cells": [
  {
   "cell_type": "code",
   "execution_count": 97,
   "id": "00982988-fab6-4b69-83ed-23f3f6216391",
   "metadata": {},
   "outputs": [],
   "source": [
    "import pandas as pd\n",
    "import matplotlib.pyplot as plt\n",
    "import matplotlib.image\n",
    "import numpy as np\n",
    "import json\n",
    "import networkx as nx"
   ]
  },
  {
   "cell_type": "code",
   "execution_count": 98,
   "id": "781250cb-7096-4bf2-892d-3b9d462d6d7f",
   "metadata": {},
   "outputs": [],
   "source": [
    "import import_ipynb\n",
    "import data_manip_weather as weather"
   ]
  },
  {
   "cell_type": "code",
   "execution_count": 43,
   "id": "542077ff-b758-4abc-a346-7b66da61ecca",
   "metadata": {},
   "outputs": [],
   "source": [
    "class Df:\n",
    "    def __init__(self, edges_file = 'edges.json', fixes_file = 'fixes.json', weather_img = \"weather.png\" , weather_json = \"weather.json\", weather_weights = [0, 10, 20]):\n",
    "        \n",
    "        self.df_combined = self.create_df_from_edges_and_fixes(edges_file, fixes_file)\n",
    "        self.calculate_distance()\n",
    "        \n",
    "        self.weather_weights = np.array(weather_weights)\n",
    "        self.weather = weather.Weather(weather_img, weather_json)\n",
    "        self.weather_proportion_for_edges()\n",
    "        self.weather_weight_calculate()\n",
    "        self.total_cost_calculate()        \n",
    "                \n",
    "    def create_df_from_edges_and_fixes(self, edges_file, fixes_file):\n",
    "        df_edges = pd.read_json(edges_file).rename(columns={0: 'A', 1: 'B'})\n",
    "        df_fixes = pd.read_json('fixes.json')\n",
    "        df_fixes = df_fixes.reindex(sorted(df_fixes.columns), axis=1).astype(np.float64).T\n",
    "        \n",
    "        df_combined = df_edges\n",
    "        df_combined[\"A_latitude\"] = df_combined['A'].map(df_fixes[\"latitude\"])\n",
    "        df_combined[\"A_longitude\"] = df_combined['A'].map(df_fixes[\"longitude\"])\n",
    "        df_combined[\"B_latitude\"] = df_combined['B'].map(df_fixes[\"latitude\"])\n",
    "        df_combined[\"B_longitude\"] = df_combined['B'].map(df_fixes[\"longitude\"])\n",
    "        return df_combined\n",
    "    \n",
    "    def calculate_distance(self):\n",
    "        self.df_combined[\"Distance\"] = self.df_combined.apply(lambda x: geodesic([x[\"A_latitude\"], x[\"A_longitude\"]] , [x[\"B_latitude\"], x[\"B_longitude\"]]).km, axis=1)\n",
    "    \n",
    "    def weather_proportion_for_edges(self):\n",
    "        self.df_combined[\"Weather\"] = self.df_combined.apply(lambda x: self.weather.weight_between_points([x[\"A_latitude\"], x[\"A_longitude\"]] , [x[\"B_latitude\"], x[\"B_longitude\"]]) , axis=1)\n",
    "       \n",
    "    def weather_weight_calculate(self):\n",
    "        self.df_combined[\"Weather_weight\"] = self.df_combined.apply(lambda x: (x[\"Weather\"]/x['Weather'].sum()*x['Distance']).dot(self.weather_weights), axis=1)\n",
    "    \n",
    "    def total_cost_calculate(self):\n",
    "        self.df_combined[\"Total_Cost\"] = self.df_combined.apply(lambda x: x[\"Weather_weight\"] + x['Distance'], axis=1)\n",
    "        \n",
    "    def weather_update(self,   weather_img = \"weather.png\" , weather_json = \"weather.json\" , weather_weights = [0, 10, 20]):\n",
    "        self.weather = weather.Weather(weather_img, weather_json)\n",
    "        self.weather_proportion_for_edges()\n",
    "        self.weather_weights_calculate()\n",
    "        self.total_cost_calculate()\n",
    "        \n",
    "    def weather_weights_update(self, weather_weights):\n",
    "        self.weather_weights = np.array(weather_weights)\n",
    "        self.weather_weight_calculate()\n",
    "        self.total_cost_calculate()\n",
    "        \n",
    "    def get_graph(self):\n",
    "         return nx.from_pandas_edgelist(self.df_combined, 'A', 'B', ['Distance', 'Weather_weight', 'Total_Cost'])"
   ]
  },
  {
   "cell_type": "code",
   "execution_count": 44,
   "id": "91efbf8d-5c8f-4399-a406-b62386105372",
   "metadata": {},
   "outputs": [],
   "source": [
    "data = Df()"
   ]
  },
  {
   "cell_type": "code",
   "execution_count": 45,
   "id": "44267665-fb6b-42e9-8e98-a6b6a2899273",
   "metadata": {},
   "outputs": [
    {
     "data": {
      "text/html": [
       "<div>\n",
       "<style scoped>\n",
       "    .dataframe tbody tr th:only-of-type {\n",
       "        vertical-align: middle;\n",
       "    }\n",
       "\n",
       "    .dataframe tbody tr th {\n",
       "        vertical-align: top;\n",
       "    }\n",
       "\n",
       "    .dataframe thead th {\n",
       "        text-align: right;\n",
       "    }\n",
       "</style>\n",
       "<table border=\"1\" class=\"dataframe\">\n",
       "  <thead>\n",
       "    <tr style=\"text-align: right;\">\n",
       "      <th></th>\n",
       "      <th>A</th>\n",
       "      <th>B</th>\n",
       "      <th>A_latitude</th>\n",
       "      <th>A_longitude</th>\n",
       "      <th>B_latitude</th>\n",
       "      <th>B_longitude</th>\n",
       "      <th>Distance</th>\n",
       "      <th>Weather</th>\n",
       "      <th>Weather_weight</th>\n",
       "      <th>Total_Cost</th>\n",
       "    </tr>\n",
       "  </thead>\n",
       "  <tbody>\n",
       "    <tr>\n",
       "      <th>0</th>\n",
       "      <td>ABQ</td>\n",
       "      <td>ADDVL</td>\n",
       "      <td>35.043794</td>\n",
       "      <td>-106.816311</td>\n",
       "      <td>33.371758</td>\n",
       "      <td>-96.361231</td>\n",
       "      <td>980.724944</td>\n",
       "      <td>[140, 90, 49]</td>\n",
       "      <td>6608.469155</td>\n",
       "      <td>7589.194098</td>\n",
       "    </tr>\n",
       "    <tr>\n",
       "      <th>1</th>\n",
       "      <td>ABQ</td>\n",
       "      <td>AHAMU</td>\n",
       "      <td>35.043794</td>\n",
       "      <td>-106.816311</td>\n",
       "      <td>34.702697</td>\n",
       "      <td>-95.864267</td>\n",
       "      <td>1001.543351</td>\n",
       "      <td>[126, 98, 68]</td>\n",
       "      <td>8026.066581</td>\n",
       "      <td>9027.609932</td>\n",
       "    </tr>\n",
       "    <tr>\n",
       "      <th>2</th>\n",
       "      <td>ABQ</td>\n",
       "      <td>AKO</td>\n",
       "      <td>35.043794</td>\n",
       "      <td>-106.816311</td>\n",
       "      <td>40.155553</td>\n",
       "      <td>-103.179711</td>\n",
       "      <td>651.776859</td>\n",
       "      <td>[99, 29, 66]</td>\n",
       "      <td>5409.075991</td>\n",
       "      <td>6060.852849</td>\n",
       "    </tr>\n",
       "    <tr>\n",
       "      <th>3</th>\n",
       "      <td>ABQ</td>\n",
       "      <td>ALS</td>\n",
       "      <td>35.043794</td>\n",
       "      <td>-106.816311</td>\n",
       "      <td>37.349158</td>\n",
       "      <td>-105.815536</td>\n",
       "      <td>271.177389</td>\n",
       "      <td>[0, 24, 64]</td>\n",
       "      <td>4683.973087</td>\n",
       "      <td>4955.150476</td>\n",
       "    </tr>\n",
       "    <tr>\n",
       "      <th>4</th>\n",
       "      <td>ABQ</td>\n",
       "      <td>ANTHY</td>\n",
       "      <td>35.043794</td>\n",
       "      <td>-106.816311</td>\n",
       "      <td>31.310189</td>\n",
       "      <td>-100.543003</td>\n",
       "      <td>716.530016</td>\n",
       "      <td>[117, 17, 34]</td>\n",
       "      <td>3625.300674</td>\n",
       "      <td>4341.830689</td>\n",
       "    </tr>\n",
       "    <tr>\n",
       "      <th>...</th>\n",
       "      <td>...</td>\n",
       "      <td>...</td>\n",
       "      <td>...</td>\n",
       "      <td>...</td>\n",
       "      <td>...</td>\n",
       "      <td>...</td>\n",
       "      <td>...</td>\n",
       "      <td>...</td>\n",
       "      <td>...</td>\n",
       "      <td>...</td>\n",
       "    </tr>\n",
       "    <tr>\n",
       "      <th>116103</th>\n",
       "      <td>ZUVKU</td>\n",
       "      <td>WISEP</td>\n",
       "      <td>40.876139</td>\n",
       "      <td>-124.039036</td>\n",
       "      <td>42.250111</td>\n",
       "      <td>-123.354881</td>\n",
       "      <td>162.920422</td>\n",
       "      <td>[53, 0, 0]</td>\n",
       "      <td>0.000000</td>\n",
       "      <td>162.920422</td>\n",
       "    </tr>\n",
       "    <tr>\n",
       "      <th>116104</th>\n",
       "      <td>ZUVKU</td>\n",
       "      <td>WURUK</td>\n",
       "      <td>40.876139</td>\n",
       "      <td>-124.039036</td>\n",
       "      <td>44.412092</td>\n",
       "      <td>-120.921144</td>\n",
       "      <td>468.602018</td>\n",
       "      <td>[135, 0, 0]</td>\n",
       "      <td>0.000000</td>\n",
       "      <td>468.602018</td>\n",
       "    </tr>\n",
       "    <tr>\n",
       "      <th>116105</th>\n",
       "      <td>ZUVKU</td>\n",
       "      <td>YAPUB</td>\n",
       "      <td>40.876139</td>\n",
       "      <td>-124.039036</td>\n",
       "      <td>38.322275</td>\n",
       "      <td>-122.949075</td>\n",
       "      <td>298.595223</td>\n",
       "      <td>[97, 0, 0]</td>\n",
       "      <td>0.000000</td>\n",
       "      <td>298.595223</td>\n",
       "    </tr>\n",
       "    <tr>\n",
       "      <th>116106</th>\n",
       "      <td>ZUVKU</td>\n",
       "      <td>ZIDAX</td>\n",
       "      <td>40.876139</td>\n",
       "      <td>-124.039036</td>\n",
       "      <td>42.246989</td>\n",
       "      <td>-122.542739</td>\n",
       "      <td>196.868845</td>\n",
       "      <td>[53, 0, 0]</td>\n",
       "      <td>0.000000</td>\n",
       "      <td>196.868845</td>\n",
       "    </tr>\n",
       "    <tr>\n",
       "      <th>116107</th>\n",
       "      <td>ZUVKU</td>\n",
       "      <td>ZORUN</td>\n",
       "      <td>40.876139</td>\n",
       "      <td>-124.039036</td>\n",
       "      <td>39.983333</td>\n",
       "      <td>-118.916667</td>\n",
       "      <td>445.754193</td>\n",
       "      <td>[137, 0, 0]</td>\n",
       "      <td>0.000000</td>\n",
       "      <td>445.754193</td>\n",
       "    </tr>\n",
       "  </tbody>\n",
       "</table>\n",
       "<p>116108 rows × 10 columns</p>\n",
       "</div>"
      ],
      "text/plain": [
       "            A      B  A_latitude  A_longitude  B_latitude  B_longitude  \\\n",
       "0         ABQ  ADDVL   35.043794  -106.816311   33.371758   -96.361231   \n",
       "1         ABQ  AHAMU   35.043794  -106.816311   34.702697   -95.864267   \n",
       "2         ABQ    AKO   35.043794  -106.816311   40.155553  -103.179711   \n",
       "3         ABQ    ALS   35.043794  -106.816311   37.349158  -105.815536   \n",
       "4         ABQ  ANTHY   35.043794  -106.816311   31.310189  -100.543003   \n",
       "...       ...    ...         ...          ...         ...          ...   \n",
       "116103  ZUVKU  WISEP   40.876139  -124.039036   42.250111  -123.354881   \n",
       "116104  ZUVKU  WURUK   40.876139  -124.039036   44.412092  -120.921144   \n",
       "116105  ZUVKU  YAPUB   40.876139  -124.039036   38.322275  -122.949075   \n",
       "116106  ZUVKU  ZIDAX   40.876139  -124.039036   42.246989  -122.542739   \n",
       "116107  ZUVKU  ZORUN   40.876139  -124.039036   39.983333  -118.916667   \n",
       "\n",
       "           Distance        Weather  Weather_weight   Total_Cost  \n",
       "0        980.724944  [140, 90, 49]     6608.469155  7589.194098  \n",
       "1       1001.543351  [126, 98, 68]     8026.066581  9027.609932  \n",
       "2        651.776859   [99, 29, 66]     5409.075991  6060.852849  \n",
       "3        271.177389    [0, 24, 64]     4683.973087  4955.150476  \n",
       "4        716.530016  [117, 17, 34]     3625.300674  4341.830689  \n",
       "...             ...            ...             ...          ...  \n",
       "116103   162.920422     [53, 0, 0]        0.000000   162.920422  \n",
       "116104   468.602018    [135, 0, 0]        0.000000   468.602018  \n",
       "116105   298.595223     [97, 0, 0]        0.000000   298.595223  \n",
       "116106   196.868845     [53, 0, 0]        0.000000   196.868845  \n",
       "116107   445.754193    [137, 0, 0]        0.000000   445.754193  \n",
       "\n",
       "[116108 rows x 10 columns]"
      ]
     },
     "execution_count": 45,
     "metadata": {},
     "output_type": "execute_result"
    }
   ],
   "source": [
    "data.df_combined"
   ]
  },
  {
   "cell_type": "code",
   "execution_count": 46,
   "id": "19b57165-9733-467e-9d8b-af89cb05fbce",
   "metadata": {},
   "outputs": [],
   "source": [
    "G = nx.from_pandas_edgelist(data.df_combined, 'A', 'B', ['Distance', 'Weather_weight', 'Total_Cost'])"
   ]
  },
  {
   "cell_type": "code",
   "execution_count": 47,
   "id": "f3704b3d-ef6a-4034-9818-81228ea57a87",
   "metadata": {},
   "outputs": [
    {
     "data": {
      "text/plain": [
       "['KSFO',\n",
       " 'KSFO:RW01L',\n",
       " 'KYNNG',\n",
       " 'AKUKY',\n",
       " 'BAYAM',\n",
       " 'AQP',\n",
       " 'EFVEV',\n",
       " 'JFK',\n",
       " 'KJFK']"
      ]
     },
     "execution_count": 47,
     "metadata": {},
     "output_type": "execute_result"
    }
   ],
   "source": [
    "nx.astar_path(G, 'KSFO', 'KJFK', weight = \"Di\")"
   ]
  },
  {
   "cell_type": "code",
   "execution_count": 48,
   "id": "5ca762f1-d5e5-48bc-9375-cc09cea38638",
   "metadata": {},
   "outputs": [
    {
     "data": {
      "text/plain": [
       "4830.706612543995"
      ]
     },
     "execution_count": 48,
     "metadata": {},
     "output_type": "execute_result"
    }
   ],
   "source": [
    "nx.path_weight(G, nx.astar_path(G, 'KSFO', 'KJFK', weight = \"Total_Cost\"), weight = \"Distance\")"
   ]
  },
  {
   "cell_type": "code",
   "execution_count": 49,
   "id": "2fd4b168-198f-40e0-9202-2fd8e103ff1a",
   "metadata": {},
   "outputs": [
    {
     "data": {
      "text/plain": [
       "718.2851751535438"
      ]
     },
     "execution_count": 49,
     "metadata": {},
     "output_type": "execute_result"
    }
   ],
   "source": [
    "nx.path_weight(G, nx.astar_path(G, 'KSFO', 'KJFK', weight = \"Total_Cost\"), weight = \"Weather_weight\")"
   ]
  },
  {
   "cell_type": "code",
   "execution_count": 50,
   "id": "10b9f925-3087-4406-8831-8c35e1324fe1",
   "metadata": {},
   "outputs": [
    {
     "data": {
      "text/plain": [
       "5548.991787697539"
      ]
     },
     "execution_count": 50,
     "metadata": {},
     "output_type": "execute_result"
    }
   ],
   "source": [
    "nx.path_weight(G, nx.astar_path(G, 'KSFO', 'KJFK', weight = \"Total_Cost\"), weight = \"Total_Cost\")"
   ]
  },
  {
   "cell_type": "code",
   "execution_count": 51,
   "id": "bd46c688-ad42-406c-b25f-ea0428a0aef2",
   "metadata": {},
   "outputs": [],
   "source": [
    "df_edges = pd.read_json('edges.json')\n",
    "df_edges = df_edges.rename(columns={0: 'A', 1: 'B'})\n",
    "\n",
    "df_fixes = pd.read_json('fixes.json')\n",
    "df_fixes = df_fixes.reindex(sorted(df_fixes.columns), axis=1).astype(np.float64).T"
   ]
  },
  {
   "cell_type": "code",
   "execution_count": 52,
   "id": "f8154c7e-8167-4fcc-802a-2d78e109eb4b",
   "metadata": {},
   "outputs": [
    {
     "name": "stdout",
     "output_type": "stream",
     "text": [
      "<class 'pandas.core.frame.DataFrame'>\n",
      "Index: 1103 entries, ABQ to ZUVKU\n",
      "Data columns (total 2 columns):\n",
      " #   Column     Non-Null Count  Dtype  \n",
      "---  ------     --------------  -----  \n",
      " 0   latitude   1103 non-null   float64\n",
      " 1   longitude  1103 non-null   float64\n",
      "dtypes: float64(2)\n",
      "memory usage: 25.9+ KB\n"
     ]
    }
   ],
   "source": [
    "df_fixes.info()"
   ]
  },
  {
   "cell_type": "code",
   "execution_count": 53,
   "id": "09818e66-a6e4-4789-8248-72aaf9cb80f5",
   "metadata": {},
   "outputs": [
    {
     "name": "stdout",
     "output_type": "stream",
     "text": [
      "<class 'pandas.core.frame.DataFrame'>\n",
      "RangeIndex: 116108 entries, 0 to 116107\n",
      "Data columns (total 2 columns):\n",
      " #   Column  Non-Null Count   Dtype \n",
      "---  ------  --------------   ----- \n",
      " 0   A       116108 non-null  object\n",
      " 1   B       116108 non-null  object\n",
      "dtypes: object(2)\n",
      "memory usage: 1.8+ MB\n"
     ]
    }
   ],
   "source": [
    "df_edges.info()"
   ]
  },
  {
   "cell_type": "code",
   "execution_count": 54,
   "id": "342f132a-8c31-473c-96bf-ae39f9a361dc",
   "metadata": {},
   "outputs": [],
   "source": [
    "w = weather.Weather()"
   ]
  },
  {
   "cell_type": "code",
   "execution_count": 55,
   "id": "3ee20a48-79fa-43d6-acaf-1c98ecbfd858",
   "metadata": {},
   "outputs": [],
   "source": [
    "m = w.wmatrix()"
   ]
  },
  {
   "cell_type": "code",
   "execution_count": 56,
   "id": "97afd46a-bed7-414d-ba25-8acb6a39fdd6",
   "metadata": {},
   "outputs": [
    {
     "data": {
      "text/plain": [
       "array([[0, 0, 0, ..., 0, 0, 0],\n",
       "       [0, 0, 0, ..., 0, 0, 0],\n",
       "       [0, 0, 0, ..., 0, 0, 0],\n",
       "       ...,\n",
       "       [0, 0, 0, ..., 0, 0, 0],\n",
       "       [0, 0, 0, ..., 0, 0, 0],\n",
       "       [0, 0, 0, ..., 0, 0, 0]], dtype=int8)"
      ]
     },
     "execution_count": 56,
     "metadata": {},
     "output_type": "execute_result"
    }
   ],
   "source": [
    "m"
   ]
  },
  {
   "cell_type": "code",
   "execution_count": 57,
   "id": "32f500da-3dca-4212-a117-d0ccfd9f00a2",
   "metadata": {},
   "outputs": [
    {
     "data": {
      "text/html": [
       "<div>\n",
       "<style scoped>\n",
       "    .dataframe tbody tr th:only-of-type {\n",
       "        vertical-align: middle;\n",
       "    }\n",
       "\n",
       "    .dataframe tbody tr th {\n",
       "        vertical-align: top;\n",
       "    }\n",
       "\n",
       "    .dataframe thead th {\n",
       "        text-align: right;\n",
       "    }\n",
       "</style>\n",
       "<table border=\"1\" class=\"dataframe\">\n",
       "  <thead>\n",
       "    <tr style=\"text-align: right;\">\n",
       "      <th></th>\n",
       "      <th>A</th>\n",
       "      <th>B</th>\n",
       "    </tr>\n",
       "  </thead>\n",
       "  <tbody>\n",
       "    <tr>\n",
       "      <th>384</th>\n",
       "      <td>ADDVL</td>\n",
       "      <td>AGENT</td>\n",
       "    </tr>\n",
       "    <tr>\n",
       "      <th>385</th>\n",
       "      <td>ADDVL</td>\n",
       "      <td>AGISM</td>\n",
       "    </tr>\n",
       "    <tr>\n",
       "      <th>386</th>\n",
       "      <td>ADDVL</td>\n",
       "      <td>AHAMU</td>\n",
       "    </tr>\n",
       "    <tr>\n",
       "      <th>387</th>\n",
       "      <td>ADDVL</td>\n",
       "      <td>ANPIY</td>\n",
       "    </tr>\n",
       "    <tr>\n",
       "      <th>388</th>\n",
       "      <td>ADDVL</td>\n",
       "      <td>ANY</td>\n",
       "    </tr>\n",
       "    <tr>\n",
       "      <th>...</th>\n",
       "      <td>...</td>\n",
       "      <td>...</td>\n",
       "    </tr>\n",
       "    <tr>\n",
       "      <th>451</th>\n",
       "      <td>ADDVL</td>\n",
       "      <td>WOVAS</td>\n",
       "    </tr>\n",
       "    <tr>\n",
       "      <th>452</th>\n",
       "      <td>ADDVL</td>\n",
       "      <td>WULBO</td>\n",
       "    </tr>\n",
       "    <tr>\n",
       "      <th>453</th>\n",
       "      <td>ADDVL</td>\n",
       "      <td>WYATE</td>\n",
       "    </tr>\n",
       "    <tr>\n",
       "      <th>454</th>\n",
       "      <td>ADDVL</td>\n",
       "      <td>ZESMO</td>\n",
       "    </tr>\n",
       "    <tr>\n",
       "      <th>455</th>\n",
       "      <td>ADDVL</td>\n",
       "      <td>ZIROX</td>\n",
       "    </tr>\n",
       "  </tbody>\n",
       "</table>\n",
       "<p>72 rows × 2 columns</p>\n",
       "</div>"
      ],
      "text/plain": [
       "         A      B\n",
       "384  ADDVL  AGENT\n",
       "385  ADDVL  AGISM\n",
       "386  ADDVL  AHAMU\n",
       "387  ADDVL  ANPIY\n",
       "388  ADDVL    ANY\n",
       "..     ...    ...\n",
       "451  ADDVL  WOVAS\n",
       "452  ADDVL  WULBO\n",
       "453  ADDVL  WYATE\n",
       "454  ADDVL  ZESMO\n",
       "455  ADDVL  ZIROX\n",
       "\n",
       "[72 rows x 2 columns]"
      ]
     },
     "execution_count": 57,
     "metadata": {},
     "output_type": "execute_result"
    }
   ],
   "source": [
    "df_edges[df_edges['A'] == \"ADDVL\"]"
   ]
  },
  {
   "cell_type": "code",
   "execution_count": 58,
   "id": "ee678780-50b3-461b-865b-45b1f5362878",
   "metadata": {},
   "outputs": [
    {
     "data": {
      "text/html": [
       "<div>\n",
       "<style scoped>\n",
       "    .dataframe tbody tr th:only-of-type {\n",
       "        vertical-align: middle;\n",
       "    }\n",
       "\n",
       "    .dataframe tbody tr th {\n",
       "        vertical-align: top;\n",
       "    }\n",
       "\n",
       "    .dataframe thead th {\n",
       "        text-align: right;\n",
       "    }\n",
       "</style>\n",
       "<table border=\"1\" class=\"dataframe\">\n",
       "  <thead>\n",
       "    <tr style=\"text-align: right;\">\n",
       "      <th></th>\n",
       "      <th>latitude</th>\n",
       "      <th>longitude</th>\n",
       "    </tr>\n",
       "  </thead>\n",
       "  <tbody>\n",
       "    <tr>\n",
       "      <th>ABQ</th>\n",
       "      <td>35.043794</td>\n",
       "      <td>-106.816311</td>\n",
       "    </tr>\n",
       "    <tr>\n",
       "      <th>ABR</th>\n",
       "      <td>45.417356</td>\n",
       "      <td>-98.368719</td>\n",
       "    </tr>\n",
       "    <tr>\n",
       "      <th>ACO</th>\n",
       "      <td>41.107903</td>\n",
       "      <td>-81.201525</td>\n",
       "    </tr>\n",
       "    <tr>\n",
       "      <th>ADDVL</th>\n",
       "      <td>33.371758</td>\n",
       "      <td>-96.361231</td>\n",
       "    </tr>\n",
       "    <tr>\n",
       "      <th>AECIA</th>\n",
       "      <td>33.501636</td>\n",
       "      <td>-117.144678</td>\n",
       "    </tr>\n",
       "    <tr>\n",
       "      <th>...</th>\n",
       "      <td>...</td>\n",
       "      <td>...</td>\n",
       "    </tr>\n",
       "    <tr>\n",
       "      <th>ZUBUM</th>\n",
       "      <td>33.662194</td>\n",
       "      <td>-102.527178</td>\n",
       "    </tr>\n",
       "    <tr>\n",
       "      <th>ZUCRY</th>\n",
       "      <td>40.869361</td>\n",
       "      <td>-75.236436</td>\n",
       "    </tr>\n",
       "    <tr>\n",
       "      <th>ZUGTO</th>\n",
       "      <td>36.940394</td>\n",
       "      <td>-84.779761</td>\n",
       "    </tr>\n",
       "    <tr>\n",
       "      <th>ZULOM</th>\n",
       "      <td>32.888417</td>\n",
       "      <td>-109.676878</td>\n",
       "    </tr>\n",
       "    <tr>\n",
       "      <th>ZUVKU</th>\n",
       "      <td>40.876139</td>\n",
       "      <td>-124.039036</td>\n",
       "    </tr>\n",
       "  </tbody>\n",
       "</table>\n",
       "<p>1103 rows × 2 columns</p>\n",
       "</div>"
      ],
      "text/plain": [
       "        latitude   longitude\n",
       "ABQ    35.043794 -106.816311\n",
       "ABR    45.417356  -98.368719\n",
       "ACO    41.107903  -81.201525\n",
       "ADDVL  33.371758  -96.361231\n",
       "AECIA  33.501636 -117.144678\n",
       "...          ...         ...\n",
       "ZUBUM  33.662194 -102.527178\n",
       "ZUCRY  40.869361  -75.236436\n",
       "ZUGTO  36.940394  -84.779761\n",
       "ZULOM  32.888417 -109.676878\n",
       "ZUVKU  40.876139 -124.039036\n",
       "\n",
       "[1103 rows x 2 columns]"
      ]
     },
     "execution_count": 58,
     "metadata": {},
     "output_type": "execute_result"
    }
   ],
   "source": [
    "df_fixes"
   ]
  },
  {
   "cell_type": "code",
   "execution_count": 59,
   "id": "5c38d7f8-dda9-47bf-9c49-2738e237e4fd",
   "metadata": {},
   "outputs": [
    {
     "data": {
      "text/plain": [
       "4161.924389225965"
      ]
     },
     "execution_count": 59,
     "metadata": {},
     "output_type": "execute_result"
    }
   ],
   "source": [
    "geodesic([df_fixes.loc[\"KSFO\"][0], df_fixes.loc[\"KSFO\"][1]] ,[ df_fixes.loc[\"KJFK\"][0], df_fixes.loc[\"KJFK\"][1] ]).km"
   ]
  },
  {
   "cell_type": "code",
   "execution_count": 60,
   "id": "d080df23-030c-4dcc-9e0a-cc0cee9528b5",
   "metadata": {},
   "outputs": [],
   "source": [
    "df_combined = df_edges"
   ]
  },
  {
   "cell_type": "code",
   "execution_count": 61,
   "id": "874a4dad-e911-4d0b-ae68-75e85e5712c9",
   "metadata": {},
   "outputs": [],
   "source": [
    "df_combined[\"A_latitude\"] = df_combined['A'].map(df_fixes[\"latitude\"])\n",
    "df_combined[\"A_longitude\"] = df_combined['A'].map(df_fixes[\"longitude\"])\n",
    "df_combined[\"B_latitude\"] = df_combined['B'].map(df_fixes[\"latitude\"])\n",
    "df_combined[\"B_longitude\"] = df_combined['B'].map(df_fixes[\"longitude\"])"
   ]
  },
  {
   "cell_type": "code",
   "execution_count": 62,
   "id": "aade37e9-1e05-44b5-ac7d-3c1a62206dbf",
   "metadata": {},
   "outputs": [
    {
     "data": {
      "text/html": [
       "<div>\n",
       "<style scoped>\n",
       "    .dataframe tbody tr th:only-of-type {\n",
       "        vertical-align: middle;\n",
       "    }\n",
       "\n",
       "    .dataframe tbody tr th {\n",
       "        vertical-align: top;\n",
       "    }\n",
       "\n",
       "    .dataframe thead th {\n",
       "        text-align: right;\n",
       "    }\n",
       "</style>\n",
       "<table border=\"1\" class=\"dataframe\">\n",
       "  <thead>\n",
       "    <tr style=\"text-align: right;\">\n",
       "      <th></th>\n",
       "      <th>A</th>\n",
       "      <th>B</th>\n",
       "      <th>A_latitude</th>\n",
       "      <th>A_longitude</th>\n",
       "      <th>B_latitude</th>\n",
       "      <th>B_longitude</th>\n",
       "    </tr>\n",
       "  </thead>\n",
       "  <tbody>\n",
       "    <tr>\n",
       "      <th>0</th>\n",
       "      <td>ABQ</td>\n",
       "      <td>ADDVL</td>\n",
       "      <td>35.043794</td>\n",
       "      <td>-106.816311</td>\n",
       "      <td>33.371758</td>\n",
       "      <td>-96.361231</td>\n",
       "    </tr>\n",
       "    <tr>\n",
       "      <th>1</th>\n",
       "      <td>ABQ</td>\n",
       "      <td>AHAMU</td>\n",
       "      <td>35.043794</td>\n",
       "      <td>-106.816311</td>\n",
       "      <td>34.702697</td>\n",
       "      <td>-95.864267</td>\n",
       "    </tr>\n",
       "    <tr>\n",
       "      <th>2</th>\n",
       "      <td>ABQ</td>\n",
       "      <td>AKO</td>\n",
       "      <td>35.043794</td>\n",
       "      <td>-106.816311</td>\n",
       "      <td>40.155553</td>\n",
       "      <td>-103.179711</td>\n",
       "    </tr>\n",
       "    <tr>\n",
       "      <th>3</th>\n",
       "      <td>ABQ</td>\n",
       "      <td>ALS</td>\n",
       "      <td>35.043794</td>\n",
       "      <td>-106.816311</td>\n",
       "      <td>37.349158</td>\n",
       "      <td>-105.815536</td>\n",
       "    </tr>\n",
       "    <tr>\n",
       "      <th>4</th>\n",
       "      <td>ABQ</td>\n",
       "      <td>ANTHY</td>\n",
       "      <td>35.043794</td>\n",
       "      <td>-106.816311</td>\n",
       "      <td>31.310189</td>\n",
       "      <td>-100.543003</td>\n",
       "    </tr>\n",
       "    <tr>\n",
       "      <th>...</th>\n",
       "      <td>...</td>\n",
       "      <td>...</td>\n",
       "      <td>...</td>\n",
       "      <td>...</td>\n",
       "      <td>...</td>\n",
       "      <td>...</td>\n",
       "    </tr>\n",
       "    <tr>\n",
       "      <th>116103</th>\n",
       "      <td>ZUVKU</td>\n",
       "      <td>WISEP</td>\n",
       "      <td>40.876139</td>\n",
       "      <td>-124.039036</td>\n",
       "      <td>42.250111</td>\n",
       "      <td>-123.354881</td>\n",
       "    </tr>\n",
       "    <tr>\n",
       "      <th>116104</th>\n",
       "      <td>ZUVKU</td>\n",
       "      <td>WURUK</td>\n",
       "      <td>40.876139</td>\n",
       "      <td>-124.039036</td>\n",
       "      <td>44.412092</td>\n",
       "      <td>-120.921144</td>\n",
       "    </tr>\n",
       "    <tr>\n",
       "      <th>116105</th>\n",
       "      <td>ZUVKU</td>\n",
       "      <td>YAPUB</td>\n",
       "      <td>40.876139</td>\n",
       "      <td>-124.039036</td>\n",
       "      <td>38.322275</td>\n",
       "      <td>-122.949075</td>\n",
       "    </tr>\n",
       "    <tr>\n",
       "      <th>116106</th>\n",
       "      <td>ZUVKU</td>\n",
       "      <td>ZIDAX</td>\n",
       "      <td>40.876139</td>\n",
       "      <td>-124.039036</td>\n",
       "      <td>42.246989</td>\n",
       "      <td>-122.542739</td>\n",
       "    </tr>\n",
       "    <tr>\n",
       "      <th>116107</th>\n",
       "      <td>ZUVKU</td>\n",
       "      <td>ZORUN</td>\n",
       "      <td>40.876139</td>\n",
       "      <td>-124.039036</td>\n",
       "      <td>39.983333</td>\n",
       "      <td>-118.916667</td>\n",
       "    </tr>\n",
       "  </tbody>\n",
       "</table>\n",
       "<p>116108 rows × 6 columns</p>\n",
       "</div>"
      ],
      "text/plain": [
       "            A      B  A_latitude  A_longitude  B_latitude  B_longitude\n",
       "0         ABQ  ADDVL   35.043794  -106.816311   33.371758   -96.361231\n",
       "1         ABQ  AHAMU   35.043794  -106.816311   34.702697   -95.864267\n",
       "2         ABQ    AKO   35.043794  -106.816311   40.155553  -103.179711\n",
       "3         ABQ    ALS   35.043794  -106.816311   37.349158  -105.815536\n",
       "4         ABQ  ANTHY   35.043794  -106.816311   31.310189  -100.543003\n",
       "...       ...    ...         ...          ...         ...          ...\n",
       "116103  ZUVKU  WISEP   40.876139  -124.039036   42.250111  -123.354881\n",
       "116104  ZUVKU  WURUK   40.876139  -124.039036   44.412092  -120.921144\n",
       "116105  ZUVKU  YAPUB   40.876139  -124.039036   38.322275  -122.949075\n",
       "116106  ZUVKU  ZIDAX   40.876139  -124.039036   42.246989  -122.542739\n",
       "116107  ZUVKU  ZORUN   40.876139  -124.039036   39.983333  -118.916667\n",
       "\n",
       "[116108 rows x 6 columns]"
      ]
     },
     "execution_count": 62,
     "metadata": {},
     "output_type": "execute_result"
    }
   ],
   "source": [
    "df_combined"
   ]
  },
  {
   "cell_type": "code",
   "execution_count": 63,
   "id": "6e279511-c840-4b7f-b5fb-b0f94640edb7",
   "metadata": {},
   "outputs": [],
   "source": [
    "df_combined[\"distance\"] = df_combined.apply(lambda x: geodesic([x[\"A_latitude\"], x[\"A_longitude\"]] , [x[\"B_latitude\"], x[\"B_longitude\"]]).km, axis=1)"
   ]
  },
  {
   "cell_type": "code",
   "execution_count": 64,
   "id": "6f2ea753-40b0-455b-943d-10748b90676c",
   "metadata": {},
   "outputs": [
    {
     "data": {
      "text/html": [
       "<div>\n",
       "<style scoped>\n",
       "    .dataframe tbody tr th:only-of-type {\n",
       "        vertical-align: middle;\n",
       "    }\n",
       "\n",
       "    .dataframe tbody tr th {\n",
       "        vertical-align: top;\n",
       "    }\n",
       "\n",
       "    .dataframe thead th {\n",
       "        text-align: right;\n",
       "    }\n",
       "</style>\n",
       "<table border=\"1\" class=\"dataframe\">\n",
       "  <thead>\n",
       "    <tr style=\"text-align: right;\">\n",
       "      <th></th>\n",
       "      <th>A</th>\n",
       "      <th>B</th>\n",
       "      <th>A_latitude</th>\n",
       "      <th>A_longitude</th>\n",
       "      <th>B_latitude</th>\n",
       "      <th>B_longitude</th>\n",
       "      <th>distance</th>\n",
       "    </tr>\n",
       "  </thead>\n",
       "  <tbody>\n",
       "    <tr>\n",
       "      <th>0</th>\n",
       "      <td>ABQ</td>\n",
       "      <td>ADDVL</td>\n",
       "      <td>35.043794</td>\n",
       "      <td>-106.816311</td>\n",
       "      <td>33.371758</td>\n",
       "      <td>-96.361231</td>\n",
       "      <td>980.724944</td>\n",
       "    </tr>\n",
       "    <tr>\n",
       "      <th>1</th>\n",
       "      <td>ABQ</td>\n",
       "      <td>AHAMU</td>\n",
       "      <td>35.043794</td>\n",
       "      <td>-106.816311</td>\n",
       "      <td>34.702697</td>\n",
       "      <td>-95.864267</td>\n",
       "      <td>1001.543351</td>\n",
       "    </tr>\n",
       "    <tr>\n",
       "      <th>2</th>\n",
       "      <td>ABQ</td>\n",
       "      <td>AKO</td>\n",
       "      <td>35.043794</td>\n",
       "      <td>-106.816311</td>\n",
       "      <td>40.155553</td>\n",
       "      <td>-103.179711</td>\n",
       "      <td>651.776859</td>\n",
       "    </tr>\n",
       "    <tr>\n",
       "      <th>3</th>\n",
       "      <td>ABQ</td>\n",
       "      <td>ALS</td>\n",
       "      <td>35.043794</td>\n",
       "      <td>-106.816311</td>\n",
       "      <td>37.349158</td>\n",
       "      <td>-105.815536</td>\n",
       "      <td>271.177389</td>\n",
       "    </tr>\n",
       "    <tr>\n",
       "      <th>4</th>\n",
       "      <td>ABQ</td>\n",
       "      <td>ANTHY</td>\n",
       "      <td>35.043794</td>\n",
       "      <td>-106.816311</td>\n",
       "      <td>31.310189</td>\n",
       "      <td>-100.543003</td>\n",
       "      <td>716.530016</td>\n",
       "    </tr>\n",
       "    <tr>\n",
       "      <th>...</th>\n",
       "      <td>...</td>\n",
       "      <td>...</td>\n",
       "      <td>...</td>\n",
       "      <td>...</td>\n",
       "      <td>...</td>\n",
       "      <td>...</td>\n",
       "      <td>...</td>\n",
       "    </tr>\n",
       "    <tr>\n",
       "      <th>116103</th>\n",
       "      <td>ZUVKU</td>\n",
       "      <td>WISEP</td>\n",
       "      <td>40.876139</td>\n",
       "      <td>-124.039036</td>\n",
       "      <td>42.250111</td>\n",
       "      <td>-123.354881</td>\n",
       "      <td>162.920422</td>\n",
       "    </tr>\n",
       "    <tr>\n",
       "      <th>116104</th>\n",
       "      <td>ZUVKU</td>\n",
       "      <td>WURUK</td>\n",
       "      <td>40.876139</td>\n",
       "      <td>-124.039036</td>\n",
       "      <td>44.412092</td>\n",
       "      <td>-120.921144</td>\n",
       "      <td>468.602018</td>\n",
       "    </tr>\n",
       "    <tr>\n",
       "      <th>116105</th>\n",
       "      <td>ZUVKU</td>\n",
       "      <td>YAPUB</td>\n",
       "      <td>40.876139</td>\n",
       "      <td>-124.039036</td>\n",
       "      <td>38.322275</td>\n",
       "      <td>-122.949075</td>\n",
       "      <td>298.595223</td>\n",
       "    </tr>\n",
       "    <tr>\n",
       "      <th>116106</th>\n",
       "      <td>ZUVKU</td>\n",
       "      <td>ZIDAX</td>\n",
       "      <td>40.876139</td>\n",
       "      <td>-124.039036</td>\n",
       "      <td>42.246989</td>\n",
       "      <td>-122.542739</td>\n",
       "      <td>196.868845</td>\n",
       "    </tr>\n",
       "    <tr>\n",
       "      <th>116107</th>\n",
       "      <td>ZUVKU</td>\n",
       "      <td>ZORUN</td>\n",
       "      <td>40.876139</td>\n",
       "      <td>-124.039036</td>\n",
       "      <td>39.983333</td>\n",
       "      <td>-118.916667</td>\n",
       "      <td>445.754193</td>\n",
       "    </tr>\n",
       "  </tbody>\n",
       "</table>\n",
       "<p>116108 rows × 7 columns</p>\n",
       "</div>"
      ],
      "text/plain": [
       "            A      B  A_latitude  A_longitude  B_latitude  B_longitude  \\\n",
       "0         ABQ  ADDVL   35.043794  -106.816311   33.371758   -96.361231   \n",
       "1         ABQ  AHAMU   35.043794  -106.816311   34.702697   -95.864267   \n",
       "2         ABQ    AKO   35.043794  -106.816311   40.155553  -103.179711   \n",
       "3         ABQ    ALS   35.043794  -106.816311   37.349158  -105.815536   \n",
       "4         ABQ  ANTHY   35.043794  -106.816311   31.310189  -100.543003   \n",
       "...       ...    ...         ...          ...         ...          ...   \n",
       "116103  ZUVKU  WISEP   40.876139  -124.039036   42.250111  -123.354881   \n",
       "116104  ZUVKU  WURUK   40.876139  -124.039036   44.412092  -120.921144   \n",
       "116105  ZUVKU  YAPUB   40.876139  -124.039036   38.322275  -122.949075   \n",
       "116106  ZUVKU  ZIDAX   40.876139  -124.039036   42.246989  -122.542739   \n",
       "116107  ZUVKU  ZORUN   40.876139  -124.039036   39.983333  -118.916667   \n",
       "\n",
       "           distance  \n",
       "0        980.724944  \n",
       "1       1001.543351  \n",
       "2        651.776859  \n",
       "3        271.177389  \n",
       "4        716.530016  \n",
       "...             ...  \n",
       "116103   162.920422  \n",
       "116104   468.602018  \n",
       "116105   298.595223  \n",
       "116106   196.868845  \n",
       "116107   445.754193  \n",
       "\n",
       "[116108 rows x 7 columns]"
      ]
     },
     "execution_count": 64,
     "metadata": {},
     "output_type": "execute_result"
    }
   ],
   "source": [
    "df_combined"
   ]
  },
  {
   "cell_type": "code",
   "execution_count": 65,
   "id": "6207c7dc-dd25-4023-b40c-d0371a1d447e",
   "metadata": {},
   "outputs": [
    {
     "data": {
      "text/plain": [
       "(array([ 843., 1896., 3003., 4035., 4753., 5448., 6082., 6403., 6947.,\n",
       "        7113., 7354., 7349., 7352., 7445., 7370., 7108., 6909., 6744.,\n",
       "        6246., 5708.]),\n",
       " array([9.33145782e-03, 5.01361355e+01, 1.00262940e+02, 1.50389744e+02,\n",
       "        2.00516548e+02, 2.50643352e+02, 3.00770156e+02, 3.50896960e+02,\n",
       "        4.01023764e+02, 4.51150568e+02, 5.01277372e+02, 5.51404176e+02,\n",
       "        6.01530980e+02, 6.51657784e+02, 7.01784589e+02, 7.51911393e+02,\n",
       "        8.02038197e+02, 8.52165001e+02, 9.02291805e+02, 9.52418609e+02,\n",
       "        1.00254541e+03]),\n",
       " <BarContainer object of 20 artists>)"
      ]
     },
     "execution_count": 65,
     "metadata": {},
     "output_type": "execute_result"
    },
    {
     "data": {
      "image/png": "[encoded data removed]",
      "text/plain": [
       "<Figure size 432x288 with 1 Axes>"
      ]
     },
     "metadata": {
      "needs_background": "light"
     },
     "output_type": "display_data"
    }
   ],
   "source": [
    "plt.hist(df_combined[\"distance\"], 20)"
   ]
  },
  {
   "cell_type": "code",
   "execution_count": 66,
   "id": "00192ff3-f9ba-4c4d-a783-52a913c4b9a9",
   "metadata": {},
   "outputs": [],
   "source": [
    "G = nx.Graph()\n",
    "G.add_edge(1, 2)  # default edge data=1\n",
    "G.add_edge(2, 3, weight=0.9)"
   ]
  },
  {
   "cell_type": "code",
   "execution_count": 67,
   "id": "655782b7-4882-4588-a966-509a333e2216",
   "metadata": {},
   "outputs": [
    {
     "data": {
      "text/plain": [
       "<networkx.classes.graph.Graph at 0x7f8de4863a20>"
      ]
     },
     "execution_count": 67,
     "metadata": {},
     "output_type": "execute_result"
    }
   ],
   "source": [
    "G"
   ]
  },
  {
   "cell_type": "code",
   "execution_count": 68,
   "id": "b7c98556-a077-46a7-8d04-5d1c66e7cbf7",
   "metadata": {},
   "outputs": [
    {
     "data": {
      "image/png": "[encoded data removed]",
      "text/plain": [
       "<Figure size 432x288 with 1 Axes>"
      ]
     },
     "metadata": {},
     "output_type": "display_data"
    }
   ],
   "source": [
    "nx.draw(G, with_labels = True)"
   ]
  },
  {
   "cell_type": "code",
   "execution_count": 69,
   "id": "eb027587-9ed5-4bc1-9ee0-c278ff38169f",
   "metadata": {},
   "outputs": [],
   "source": [
    "elist = [('a', 'b', 1.0), ('b', 'c', 3.0), ('a', 'c', 1.0), ('c', 'd', 7.3)]\n",
    "G = nx.Graph()\n",
    "\n",
    "G.add_weighted_edges_from(elist)"
   ]
  },
  {
   "cell_type": "code",
   "execution_count": 70,
   "id": "bc8d67a8-03dc-428c-8ab3-743504fe7c9b",
   "metadata": {},
   "outputs": [
    {
     "data": {
      "text/plain": [
       "<networkx.classes.graph.Graph at 0x7f8de4b1e8d0>"
      ]
     },
     "execution_count": 70,
     "metadata": {},
     "output_type": "execute_result"
    }
   ],
   "source": [
    "G"
   ]
  },
  {
   "cell_type": "code",
   "execution_count": 71,
   "id": "564e6b5e-52b8-4945-820b-eb07812b0cce",
   "metadata": {},
   "outputs": [
    {
     "data": {
      "image/png": "[encoded data removed]",
      "text/plain": [
       "<Figure size 432x288 with 1 Axes>"
      ]
     },
     "metadata": {},
     "output_type": "display_data"
    }
   ],
   "source": [
    "nx.draw(G, with_labels = True)"
   ]
  },
  {
   "cell_type": "code",
   "execution_count": 72,
   "id": "ae65250e-dd0a-4878-8f14-7ab64413d1a7",
   "metadata": {},
   "outputs": [
    {
     "data": {
      "text/plain": [
       "['a', 'c', 'd']"
      ]
     },
     "execution_count": 72,
     "metadata": {},
     "output_type": "execute_result"
    }
   ],
   "source": [
    "nx.astar_path(G, 'a', 'd')"
   ]
  },
  {
   "cell_type": "code",
   "execution_count": 73,
   "id": "4efe3569-361b-451b-8c9e-9aa1fdcd5fcb",
   "metadata": {},
   "outputs": [],
   "source": [
    "G = nx.from_pandas_edgelist(df_combined, 'A', 'B', ['distance'])"
   ]
  },
  {
   "cell_type": "code",
   "execution_count": 74,
   "id": "0be63a05-7d23-4193-997a-31067e411762",
   "metadata": {},
   "outputs": [
    {
     "data": {
      "text/plain": [
       "<networkx.classes.graph.Graph at 0x7f8de4b1e710>"
      ]
     },
     "execution_count": 74,
     "metadata": {},
     "output_type": "execute_result"
    }
   ],
   "source": [
    "G"
   ]
  },
  {
   "cell_type": "code",
   "execution_count": 75,
   "id": "402a38de-baa9-4f2a-805d-777d033dab6a",
   "metadata": {},
   "outputs": [],
   "source": [
    "pos=nx.spring_layout(G)"
   ]
  },
  {
   "cell_type": "code",
   "execution_count": 76,
   "id": "03febe8c-a285-4e4e-9ace-1c548836a729",
   "metadata": {},
   "outputs": [
    {
     "data": {
      "image/png": "[encoded data removed]",
      "text/plain": [
       "<Figure size 432x288 with 1 Axes>"
      ]
     },
     "metadata": {},
     "output_type": "display_data"
    }
   ],
   "source": [
    "nx.draw(G, pos)"
   ]
  },
  {
   "cell_type": "code",
   "execution_count": 77,
   "id": "c3e008e1-537e-49a8-bbe0-f3c8bb15b987",
   "metadata": {},
   "outputs": [
    {
     "data": {
      "text/plain": [
       "['ABQ', 'ADDVL']"
      ]
     },
     "execution_count": 77,
     "metadata": {},
     "output_type": "execute_result"
    }
   ],
   "source": [
    "nx.astar_path(G, 'ABQ', 'ADDVL')"
   ]
  },
  {
   "cell_type": "code",
   "execution_count": 78,
   "id": "957d66e2-a8bb-4a87-8a57-6c00c48bf132",
   "metadata": {},
   "outputs": [
    {
     "data": {
      "text/plain": [
       "['ADDVL', 'ABQ']"
      ]
     },
     "execution_count": 78,
     "metadata": {},
     "output_type": "execute_result"
    }
   ],
   "source": [
    "nx.astar_path(G, 'ADDVL', 'ABQ')"
   ]
  },
  {
   "cell_type": "code",
   "execution_count": 79,
   "id": "218d84ed-a3fd-458b-b157-759edfc33fe8",
   "metadata": {},
   "outputs": [
    {
     "data": {
      "text/plain": [
       "['KSFO',\n",
       " 'KSFO:RW01L',\n",
       " 'KYNNG',\n",
       " 'AKUKY',\n",
       " 'BAYAM',\n",
       " 'AQP',\n",
       " 'EFVEV',\n",
       " 'JFK',\n",
       " 'KJFK']"
      ]
     },
     "execution_count": 79,
     "metadata": {},
     "output_type": "execute_result"
    }
   ],
   "source": [
    "nx.astar_path(G, 'KSFO', 'KJFK')"
   ]
  },
  {
   "cell_type": "code",
   "execution_count": 80,
   "id": "8d984549-2bee-4836-a552-ded10a8ab0f7",
   "metadata": {},
   "outputs": [
    {
     "data": {
      "text/plain": [
       "4632.934500858076"
      ]
     },
     "execution_count": 80,
     "metadata": {},
     "output_type": "execute_result"
    }
   ],
   "source": [
    "nx.path_weight(G, nx.astar_path(G, 'KSFO', 'KJFK'), weight = \"distance\")"
   ]
  },
  {
   "cell_type": "code",
   "execution_count": 81,
   "id": "7d9aceb3-e3c4-4f30-9063-d2cadb1892ea",
   "metadata": {},
   "outputs": [
    {
     "data": {
      "text/html": [
       "<div>\n",
       "<style scoped>\n",
       "    .dataframe tbody tr th:only-of-type {\n",
       "        vertical-align: middle;\n",
       "    }\n",
       "\n",
       "    .dataframe tbody tr th {\n",
       "        vertical-align: top;\n",
       "    }\n",
       "\n",
       "    .dataframe thead th {\n",
       "        text-align: right;\n",
       "    }\n",
       "</style>\n",
       "<table border=\"1\" class=\"dataframe\">\n",
       "  <thead>\n",
       "    <tr style=\"text-align: right;\">\n",
       "      <th></th>\n",
       "      <th>A_latitude</th>\n",
       "      <th>A_longitude</th>\n",
       "      <th>B_latitude</th>\n",
       "      <th>B_longitude</th>\n",
       "      <th>distance</th>\n",
       "    </tr>\n",
       "  </thead>\n",
       "  <tbody>\n",
       "    <tr>\n",
       "      <th>count</th>\n",
       "      <td>116108.000000</td>\n",
       "      <td>116108.000000</td>\n",
       "      <td>116108.000000</td>\n",
       "      <td>116108.000000</td>\n",
       "      <td>116108.000000</td>\n",
       "    </tr>\n",
       "    <tr>\n",
       "      <th>mean</th>\n",
       "      <td>40.069040</td>\n",
       "      <td>-103.567810</td>\n",
       "      <td>40.643914</td>\n",
       "      <td>-99.029553</td>\n",
       "      <td>570.217115</td>\n",
       "    </tr>\n",
       "    <tr>\n",
       "      <th>std</th>\n",
       "      <td>4.179329</td>\n",
       "      <td>13.937375</td>\n",
       "      <td>3.764118</td>\n",
       "      <td>13.503534</td>\n",
       "      <td>249.445581</td>\n",
       "    </tr>\n",
       "    <tr>\n",
       "      <th>min</th>\n",
       "      <td>31.293364</td>\n",
       "      <td>-127.000000</td>\n",
       "      <td>31.293364</td>\n",
       "      <td>-127.000000</td>\n",
       "      <td>0.009331</td>\n",
       "    </tr>\n",
       "    <tr>\n",
       "      <th>25%</th>\n",
       "      <td>37.404853</td>\n",
       "      <td>-114.081778</td>\n",
       "      <td>38.340028</td>\n",
       "      <td>-109.356272</td>\n",
       "      <td>374.558769</td>\n",
       "    </tr>\n",
       "    <tr>\n",
       "      <th>50%</th>\n",
       "      <td>40.000000</td>\n",
       "      <td>-106.000000</td>\n",
       "      <td>40.848719</td>\n",
       "      <td>-101.389769</td>\n",
       "      <td>579.818206</td>\n",
       "    </tr>\n",
       "    <tr>\n",
       "      <th>75%</th>\n",
       "      <td>43.000000</td>\n",
       "      <td>-94.737061</td>\n",
       "      <td>43.000000</td>\n",
       "      <td>-89.763722</td>\n",
       "      <td>777.456601</td>\n",
       "    </tr>\n",
       "    <tr>\n",
       "      <th>max</th>\n",
       "      <td>48.869417</td>\n",
       "      <td>-70.402136</td>\n",
       "      <td>48.869417</td>\n",
       "      <td>-70.402136</td>\n",
       "      <td>1002.545413</td>\n",
       "    </tr>\n",
       "  </tbody>\n",
       "</table>\n",
       "</div>"
      ],
      "text/plain": [
       "          A_latitude    A_longitude     B_latitude    B_longitude  \\\n",
       "count  116108.000000  116108.000000  116108.000000  116108.000000   \n",
       "mean       40.069040    -103.567810      40.643914     -99.029553   \n",
       "std         4.179329      13.937375       3.764118      13.503534   \n",
       "min        31.293364    -127.000000      31.293364    -127.000000   \n",
       "25%        37.404853    -114.081778      38.340028    -109.356272   \n",
       "50%        40.000000    -106.000000      40.848719    -101.389769   \n",
       "75%        43.000000     -94.737061      43.000000     -89.763722   \n",
       "max        48.869417     -70.402136      48.869417     -70.402136   \n",
       "\n",
       "            distance  \n",
       "count  116108.000000  \n",
       "mean      570.217115  \n",
       "std       249.445581  \n",
       "min         0.009331  \n",
       "25%       374.558769  \n",
       "50%       579.818206  \n",
       "75%       777.456601  \n",
       "max      1002.545413  "
      ]
     },
     "execution_count": 81,
     "metadata": {},
     "output_type": "execute_result"
    }
   ],
   "source": [
    "df_combined.describe()"
   ]
  },
  {
   "cell_type": "code",
   "execution_count": 82,
   "id": "63cc7e24-4ae8-468b-9ea1-ade068b20ddb",
   "metadata": {},
   "outputs": [
    {
     "data": {
      "text/plain": [
       "['KSFO', 'KSFO:RW01L', 'KYNNG', 'ZORUN']"
      ]
     },
     "execution_count": 82,
     "metadata": {},
     "output_type": "execute_result"
    }
   ],
   "source": [
    "nx.dijkstra_path(G, 'KSFO', 'ZORUN')"
   ]
  },
  {
   "cell_type": "code",
   "execution_count": null,
   "id": "9d2808cf-2382-4167-9d30-e0db1e23eb0b",
   "metadata": {},
   "outputs": [],
   "source": []
  },
  {
   "cell_type": "code",
   "execution_count": 83,
   "id": "5ddca30a-a827-4449-a5b6-b10c6233481f",
   "metadata": {},
   "outputs": [],
   "source": [
    "from geographiclib.geodesic import Geodesic\n",
    "import math"
   ]
  },
  {
   "cell_type": "code",
   "execution_count": 84,
   "id": "c902fe2e-3f10-42e9-87c7-23c747b71c48",
   "metadata": {},
   "outputs": [],
   "source": [
    "geod = Geodesic.WGS84"
   ]
  },
  {
   "cell_type": "code",
   "execution_count": 91,
   "id": "47f07f8f-53b7-432f-a2c9-492c8055f48e",
   "metadata": {},
   "outputs": [],
   "source": [
    "g = geod.Inverse(55.78   ,  -135.0, 55.7535625 , -134.94726562, Geodesic.DISTANCE)\n",
    "g['s12']/1000"
   ]
  },
  {
   "cell_type": "code",
   "execution_count": 94,
   "id": "22912177-3340-42e4-87ee-fb1b465b975d",
   "metadata": {},
   "outputs": [
    {
     "data": {
      "text/plain": [
       "4.429493886863273"
      ]
     },
     "execution_count": 94,
     "metadata": {},
     "output_type": "execute_result"
    }
   ],
   "source": [
    "g['s12']/1000"
   ]
  },
  {
   "cell_type": "code",
   "execution_count": 87,
   "id": "3e5c0e17-eac9-4bcc-ae09-95e590befd74",
   "metadata": {},
   "outputs": [],
   "source": [
    "g = geod.Inverse(21.992875  ,   -67.60546875, 21.9664375 , -67.55273438)"
   ]
  },
  {
   "cell_type": "code",
   "execution_count": 88,
   "id": "b85cb338-f941-43e0-886f-4bc9feb2dca0",
   "metadata": {},
   "outputs": [
    {
     "data": {
      "text/plain": [
       "{'lat1': 21.992875,\n",
       " 'lon1': -67.60546875,\n",
       " 'lat2': 21.9664375,\n",
       " 'lon2': -67.55273438,\n",
       " 'a12': 0.05570490410746527,\n",
       " 's12': 6183.150516415978,\n",
       " 'azi1': 118.2487299642972,\n",
       " 'azi2': 118.26846724675562}"
      ]
     },
     "execution_count": 88,
     "metadata": {},
     "output_type": "execute_result"
    }
   ],
   "source": [
    "g"
   ]
  },
  {
   "cell_type": "code",
   "execution_count": 89,
   "id": "2de94b4a-6960-4816-bebe-2485818a0810",
   "metadata": {},
   "outputs": [
    {
     "name": "stdout",
     "output_type": "stream",
     "text": [
      "distance latitude longitude azimuth\n",
      "0 35.04379 -106.81631 97.92091\n",
      "60000 34.96752 -106.16558 98.29421\n",
      "120000 34.88776 -105.51607 98.66608\n",
      "180000 34.80454 -104.86785 99.03646\n",
      "240000 34.71787 -104.22096 99.40530\n",
      "300000 34.62778 -103.57544 99.77253\n",
      "360000 34.53427 -102.93134 100.13810\n",
      "420000 34.43737 -102.28871 100.50197\n",
      "480000 34.33711 -101.64758 100.86407\n",
      "540000 34.23349 -101.00800 101.22435\n",
      "600000 34.12654 -100.37002 101.58277\n",
      "660000 34.01628 -99.73366 101.93928\n",
      "720000 33.90274 -99.09897 102.29382\n",
      "780000 33.78594 -98.46599 102.64636\n",
      "840000 33.66589 -97.83474 102.99684\n",
      "900000 33.54263 -97.20527 103.34523\n",
      "960000 33.41618 -96.57761 103.69147\n",
      "980725 33.37176 -96.36123 103.81056\n"
     ]
    }
   ],
   "source": [
    "l = geod.InverseLine(35.043794, -106.816311, 33.371758, -96.361231)\n",
    "ds = 60e3; n = int(math.ceil(l.s13 / ds))\n",
    "for i in range(n + 1):\n",
    "    if i == 0:\n",
    "        print(\"distance latitude longitude azimuth\")\n",
    "    s = min(ds * i, l.s13)\n",
    "    g = l.Position(s, Geodesic.STANDARD | Geodesic.LONG_UNROLL)\n",
    "    print(\"{:.0f} {:.5f} {:.5f} {:.5f}\".format(\n",
    "    g['s12'], g['lat2'], g['lon2'], g['azi2']))"
   ]
  },
  {
   "cell_type": "code",
   "execution_count": 90,
   "id": "ae76dc23-9af5-407c-b8a8-fcb44c7cd0f9",
   "metadata": {},
   "outputs": [
    {
     "name": "stdout",
     "output_type": "stream",
     "text": [
      "distance latitude longitude azimuth\n",
      "0 35.04379 -106.81631\n",
      "60000 34.96752 -106.16558\n",
      "120000 34.88776 -105.51607\n",
      "180000 34.80454 -104.86785\n",
      "240000 34.71787 -104.22096\n",
      "300000 34.62778 -103.57544\n",
      "360000 34.53427 -102.93134\n",
      "420000 34.43737 -102.28871\n",
      "480000 34.33711 -101.64758\n",
      "540000 34.23349 -101.00800\n",
      "600000 34.12654 -100.37002\n",
      "660000 34.01628 -99.73366\n",
      "720000 33.90274 -99.09897\n",
      "780000 33.78594 -98.46599\n",
      "840000 33.66589 -97.83474\n",
      "900000 33.54263 -97.20527\n",
      "960000 33.41618 -96.57761\n",
      "980725 33.37176 -96.36123\n"
     ]
    }
   ],
   "source": [
    "l = geod.InverseLine(35.043794, -106.816311, 33.371758, -96.361231)\n",
    "ds = 60e3; n = int(math.ceil(l.s13 / ds))\n",
    "for i in range(n + 1):\n",
    "    if i == 0:\n",
    "        print(\"distance latitude longitude azimuth\")\n",
    "    s = min(ds * i, l.s13)\n",
    "    g = l.Position(s, Geodesic.LATITUDE | Geodesic.LONGITUDE )\n",
    "    print(\"{:.0f} {:.5f} {:.5f}\".format(\n",
    "    g['s12'], g['lat2'], g['lon2']))"
   ]
  },
  {
   "cell_type": "code",
   "execution_count": null,
   "id": "93ea72b9-43a2-4db9-8cd0-19e22e3c53d1",
   "metadata": {},
   "outputs": [],
   "source": []
  },
  {
   "cell_type": "code",
   "execution_count": null,
   "id": "c13c4897-4836-47d6-a3f8-b49f6873e21e",
   "metadata": {},
   "outputs": [],
   "source": []
  },
  {
   "cell_type": "code",
   "execution_count": null,
   "id": "37505316-a1ba-4642-92b0-299cc18917ab",
   "metadata": {},
   "outputs": [],
   "source": []
  }
 ],
 "metadata": {
  "kernelspec": {
   "display_name": "Python 3 (ipykernel)",
   "language": "python",
   "name": "python3"
  },
  "language_info": {
   "codemirror_mode": {
    "name": "ipython",
    "version": 3
   },
   "file_extension": ".py",
   "mimetype": "text/x-python",
   "name": "python",
   "nbconvert_exporter": "python",
   "pygments_lexer": "ipython3",
   "version": "3.7.2"
  }
 },
 "nbformat": 4,
 "nbformat_minor": 5
}
