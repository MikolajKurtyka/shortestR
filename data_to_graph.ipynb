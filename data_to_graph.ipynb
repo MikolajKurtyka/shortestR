{
 "cells": [
  {
   "cell_type": "code",
   "execution_count": 18,
   "id": "00982988-fab6-4b69-83ed-23f3f6216391",
   "metadata": {},
   "outputs": [],
   "source": [
    "import pandas as pd\n",
    "import matplotlib.pyplot as plt\n",
    "import matplotlib.image\n",
    "import numpy as np\n",
    "import json\n",
    "from geopy.distance import geodesic\n",
    "import networkx as nx"
   ]
  },
  {
   "cell_type": "code",
   "execution_count": 19,
   "id": "781250cb-7096-4bf2-892d-3b9d462d6d7f",
   "metadata": {},
   "outputs": [],
   "source": [
    "import import_ipynb\n",
    "import data_manip_weather as weather"
   ]
  },
  {
   "cell_type": "code",
   "execution_count": 20,
   "id": "542077ff-b758-4abc-a346-7b66da61ecca",
   "metadata": {},
   "outputs": [],
   "source": [
    "class Df_and_graph:\n",
    "    def __init__(self, edges_file = 'edges.json', fixes_file = 'fixes.json', weather_img = \"weather.png\" , weather_json = \"weather.json\"):\n",
    "        self.df_combined = self.create_df_from_edges_and_fixes(edges_file, fixes_file)\n",
    "        self.calculate_distance()\n",
    "        \n",
    "        self.weather = weather.Weather(weather_img, weather_json)\n",
    "        \n",
    "    def create_df_from_edges_and_fixes(self, edges_file, fixes_file):\n",
    "        df_edges = pd.read_json(edges_file).rename(columns={0: 'A', 1: 'B'})\n",
    "        df_fixes = pd.read_json('fixes.json')\n",
    "        df_fixes = df_fixes.reindex(sorted(df_fixes.columns), axis=1).astype(np.float64).T\n",
    "        \n",
    "        df_combined = df_edges\n",
    "        df_combined[\"A_latitude\"] = df_combined['A'].map(df_fixes[\"latitude\"])\n",
    "        df_combined[\"A_longitude\"] = df_combined['A'].map(df_fixes[\"longitude\"])\n",
    "        df_combined[\"B_latitude\"] = df_combined['B'].map(df_fixes[\"latitude\"])\n",
    "        df_combined[\"B_longitude\"] = df_combined['B'].map(df_fixes[\"longitude\"])\n",
    "        return df_combined\n",
    "    def calculate_distance(self):\n",
    "        self.df_combined[\"Distance\"] = self.df_combined.apply(lambda x: geodesic([x[\"A_latitude\"], x[\"A_longitude\"]] , [x[\"B_latitude\"], x[\"B_longitude\"]]).km, axis=1)\n",
    "    \n",
    "    def weather_proportion_for_edges(self):\n",
    "        self.df_combined[\"Weather\"] = self.df_combined.apply(lambda x:  self.weather.weight_between_points([x[\"A_latitude\"], x[\"A_longitude\"]] , [x[\"B_latitude\"], x[\"B_longitude\"]]) , axis=1)\n",
    "       \n",
    "    def weather_weight_calculate(self, good = 0, moderate = 10, severe = 20):\n",
    "        self.df_combined[\"Weather_weight\"] = self.df_combined.apply(lambda x:   , axis=1)\n",
    "        \n",
    "    def weather_update(self,  weather_img, weather_json):\n",
    "        self.weather = weather.Weather(weather_img, weather_json)\n",
    "        self.weather_proportion_for_edges()\n",
    "        "
   ]
  },
  {
   "cell_type": "code",
   "execution_count": 21,
   "id": "91efbf8d-5c8f-4399-a406-b62386105372",
   "metadata": {},
   "outputs": [],
   "source": [
    "data = Df_and_graph()"
   ]
  },
  {
   "cell_type": "code",
   "execution_count": 22,
   "id": "44267665-fb6b-42e9-8e98-a6b6a2899273",
   "metadata": {},
   "outputs": [
    {
     "data": {
      "text/html": [
       "<div>\n",
       "<style scoped>\n",
       "    .dataframe tbody tr th:only-of-type {\n",
       "        vertical-align: middle;\n",
       "    }\n",
       "\n",
       "    .dataframe tbody tr th {\n",
       "        vertical-align: top;\n",
       "    }\n",
       "\n",
       "    .dataframe thead th {\n",
       "        text-align: right;\n",
       "    }\n",
       "</style>\n",
       "<table border=\"1\" class=\"dataframe\">\n",
       "  <thead>\n",
       "    <tr style=\"text-align: right;\">\n",
       "      <th></th>\n",
       "      <th>A</th>\n",
       "      <th>B</th>\n",
       "      <th>A_latitude</th>\n",
       "      <th>A_longitude</th>\n",
       "      <th>B_latitude</th>\n",
       "      <th>B_longitude</th>\n",
       "      <th>distance</th>\n",
       "    </tr>\n",
       "  </thead>\n",
       "  <tbody>\n",
       "    <tr>\n",
       "      <th>0</th>\n",
       "      <td>ABQ</td>\n",
       "      <td>ADDVL</td>\n",
       "      <td>35.043794</td>\n",
       "      <td>-106.816311</td>\n",
       "      <td>33.371758</td>\n",
       "      <td>-96.361231</td>\n",
       "      <td>980.724944</td>\n",
       "    </tr>\n",
       "    <tr>\n",
       "      <th>1</th>\n",
       "      <td>ABQ</td>\n",
       "      <td>AHAMU</td>\n",
       "      <td>35.043794</td>\n",
       "      <td>-106.816311</td>\n",
       "      <td>34.702697</td>\n",
       "      <td>-95.864267</td>\n",
       "      <td>1001.543351</td>\n",
       "    </tr>\n",
       "    <tr>\n",
       "      <th>2</th>\n",
       "      <td>ABQ</td>\n",
       "      <td>AKO</td>\n",
       "      <td>35.043794</td>\n",
       "      <td>-106.816311</td>\n",
       "      <td>40.155553</td>\n",
       "      <td>-103.179711</td>\n",
       "      <td>651.776859</td>\n",
       "    </tr>\n",
       "    <tr>\n",
       "      <th>3</th>\n",
       "      <td>ABQ</td>\n",
       "      <td>ALS</td>\n",
       "      <td>35.043794</td>\n",
       "      <td>-106.816311</td>\n",
       "      <td>37.349158</td>\n",
       "      <td>-105.815536</td>\n",
       "      <td>271.177389</td>\n",
       "    </tr>\n",
       "    <tr>\n",
       "      <th>4</th>\n",
       "      <td>ABQ</td>\n",
       "      <td>ANTHY</td>\n",
       "      <td>35.043794</td>\n",
       "      <td>-106.816311</td>\n",
       "      <td>31.310189</td>\n",
       "      <td>-100.543003</td>\n",
       "      <td>716.530016</td>\n",
       "    </tr>\n",
       "    <tr>\n",
       "      <th>...</th>\n",
       "      <td>...</td>\n",
       "      <td>...</td>\n",
       "      <td>...</td>\n",
       "      <td>...</td>\n",
       "      <td>...</td>\n",
       "      <td>...</td>\n",
       "      <td>...</td>\n",
       "    </tr>\n",
       "    <tr>\n",
       "      <th>116103</th>\n",
       "      <td>ZUVKU</td>\n",
       "      <td>WISEP</td>\n",
       "      <td>40.876139</td>\n",
       "      <td>-124.039036</td>\n",
       "      <td>42.250111</td>\n",
       "      <td>-123.354881</td>\n",
       "      <td>162.920422</td>\n",
       "    </tr>\n",
       "    <tr>\n",
       "      <th>116104</th>\n",
       "      <td>ZUVKU</td>\n",
       "      <td>WURUK</td>\n",
       "      <td>40.876139</td>\n",
       "      <td>-124.039036</td>\n",
       "      <td>44.412092</td>\n",
       "      <td>-120.921144</td>\n",
       "      <td>468.602018</td>\n",
       "    </tr>\n",
       "    <tr>\n",
       "      <th>116105</th>\n",
       "      <td>ZUVKU</td>\n",
       "      <td>YAPUB</td>\n",
       "      <td>40.876139</td>\n",
       "      <td>-124.039036</td>\n",
       "      <td>38.322275</td>\n",
       "      <td>-122.949075</td>\n",
       "      <td>298.595223</td>\n",
       "    </tr>\n",
       "    <tr>\n",
       "      <th>116106</th>\n",
       "      <td>ZUVKU</td>\n",
       "      <td>ZIDAX</td>\n",
       "      <td>40.876139</td>\n",
       "      <td>-124.039036</td>\n",
       "      <td>42.246989</td>\n",
       "      <td>-122.542739</td>\n",
       "      <td>196.868845</td>\n",
       "    </tr>\n",
       "    <tr>\n",
       "      <th>116107</th>\n",
       "      <td>ZUVKU</td>\n",
       "      <td>ZORUN</td>\n",
       "      <td>40.876139</td>\n",
       "      <td>-124.039036</td>\n",
       "      <td>39.983333</td>\n",
       "      <td>-118.916667</td>\n",
       "      <td>445.754193</td>\n",
       "    </tr>\n",
       "  </tbody>\n",
       "</table>\n",
       "<p>116108 rows × 7 columns</p>\n",
       "</div>"
      ],
      "text/plain": [
       "            A      B  A_latitude  A_longitude  B_latitude  B_longitude  \\\n",
       "0         ABQ  ADDVL   35.043794  -106.816311   33.371758   -96.361231   \n",
       "1         ABQ  AHAMU   35.043794  -106.816311   34.702697   -95.864267   \n",
       "2         ABQ    AKO   35.043794  -106.816311   40.155553  -103.179711   \n",
       "3         ABQ    ALS   35.043794  -106.816311   37.349158  -105.815536   \n",
       "4         ABQ  ANTHY   35.043794  -106.816311   31.310189  -100.543003   \n",
       "...       ...    ...         ...          ...         ...          ...   \n",
       "116103  ZUVKU  WISEP   40.876139  -124.039036   42.250111  -123.354881   \n",
       "116104  ZUVKU  WURUK   40.876139  -124.039036   44.412092  -120.921144   \n",
       "116105  ZUVKU  YAPUB   40.876139  -124.039036   38.322275  -122.949075   \n",
       "116106  ZUVKU  ZIDAX   40.876139  -124.039036   42.246989  -122.542739   \n",
       "116107  ZUVKU  ZORUN   40.876139  -124.039036   39.983333  -118.916667   \n",
       "\n",
       "           distance  \n",
       "0        980.724944  \n",
       "1       1001.543351  \n",
       "2        651.776859  \n",
       "3        271.177389  \n",
       "4        716.530016  \n",
       "...             ...  \n",
       "116103   162.920422  \n",
       "116104   468.602018  \n",
       "116105   298.595223  \n",
       "116106   196.868845  \n",
       "116107   445.754193  \n",
       "\n",
       "[116108 rows x 7 columns]"
      ]
     },
     "execution_count": 22,
     "metadata": {},
     "output_type": "execute_result"
    }
   ],
   "source": [
    "data.df_combined"
   ]
  },
  {
   "cell_type": "code",
   "execution_count": 23,
   "id": "f6de26d3-e397-44ab-ad5c-aacef85d75a8",
   "metadata": {},
   "outputs": [
    {
     "ename": "ValueError",
     "evalue": "Columns must be same length as key",
     "output_type": "error",
     "traceback": [
      "\u001b[0;31m---------------------------------------------------------------------------\u001b[0m",
      "\u001b[0;31mValueError\u001b[0m                                Traceback (most recent call last)",
      "\u001b[0;32m/tmp/ipykernel_197/653977571.py\u001b[0m in \u001b[0;36m<module>\u001b[0;34m\u001b[0m\n\u001b[0;32m----> 1\u001b[0;31m \u001b[0mdata\u001b[0m\u001b[0;34m.\u001b[0m\u001b[0mweather_proportion_for_edges\u001b[0m\u001b[0;34m(\u001b[0m\u001b[0;34m)\u001b[0m\u001b[0;34m\u001b[0m\u001b[0;34m\u001b[0m\u001b[0m\n\u001b[0m",
      "\u001b[0;32m/tmp/ipykernel_197/3847819179.py\u001b[0m in \u001b[0;36mweather_proportion_for_edges\u001b[0;34m(self)\u001b[0m\n\u001b[1;32m     21\u001b[0m \u001b[0;34m\u001b[0m\u001b[0m\n\u001b[1;32m     22\u001b[0m     \u001b[0;32mdef\u001b[0m \u001b[0mweather_proportion_for_edges\u001b[0m\u001b[0;34m(\u001b[0m\u001b[0mself\u001b[0m\u001b[0;34m)\u001b[0m\u001b[0;34m:\u001b[0m\u001b[0;34m\u001b[0m\u001b[0;34m\u001b[0m\u001b[0m\n\u001b[0;32m---> 23\u001b[0;31m         \u001b[0mself\u001b[0m\u001b[0;34m.\u001b[0m\u001b[0mdf_combined\u001b[0m\u001b[0;34m[\u001b[0m\u001b[0;34m[\u001b[0m\u001b[0;34m\"Good\"\u001b[0m\u001b[0;34m,\u001b[0m\u001b[0;34m\"Moderate\"\u001b[0m\u001b[0;34m,\u001b[0m  \u001b[0;34m\"Severe\"\u001b[0m\u001b[0;34m]\u001b[0m\u001b[0;34m]\u001b[0m \u001b[0;34m=\u001b[0m \u001b[0mself\u001b[0m\u001b[0;34m.\u001b[0m\u001b[0mdf_combined\u001b[0m\u001b[0;34m.\u001b[0m\u001b[0mapply\u001b[0m\u001b[0;34m(\u001b[0m\u001b[0;32mlambda\u001b[0m \u001b[0mx\u001b[0m\u001b[0;34m:\u001b[0m  \u001b[0mself\u001b[0m\u001b[0;34m.\u001b[0m\u001b[0mweather\u001b[0m\u001b[0;34m.\u001b[0m\u001b[0mweight_between_points\u001b[0m\u001b[0;34m(\u001b[0m\u001b[0;34m[\u001b[0m\u001b[0mx\u001b[0m\u001b[0;34m[\u001b[0m\u001b[0;34m\"A_latitude\"\u001b[0m\u001b[0;34m]\u001b[0m\u001b[0;34m,\u001b[0m \u001b[0mx\u001b[0m\u001b[0;34m[\u001b[0m\u001b[0;34m\"A_longitude\"\u001b[0m\u001b[0;34m]\u001b[0m\u001b[0;34m]\u001b[0m \u001b[0;34m,\u001b[0m \u001b[0;34m[\u001b[0m\u001b[0mx\u001b[0m\u001b[0;34m[\u001b[0m\u001b[0;34m\"B_latitude\"\u001b[0m\u001b[0;34m]\u001b[0m\u001b[0;34m,\u001b[0m \u001b[0mx\u001b[0m\u001b[0;34m[\u001b[0m\u001b[0;34m\"B_longitude\"\u001b[0m\u001b[0;34m]\u001b[0m\u001b[0;34m]\u001b[0m\u001b[0;34m)\u001b[0m \u001b[0;34m,\u001b[0m \u001b[0maxis\u001b[0m\u001b[0;34m=\u001b[0m\u001b[0;36m1\u001b[0m\u001b[0;34m)\u001b[0m\u001b[0;34m\u001b[0m\u001b[0;34m\u001b[0m\u001b[0m\n\u001b[0m\u001b[1;32m     24\u001b[0m \u001b[0;34m\u001b[0m\u001b[0m\n\u001b[1;32m     25\u001b[0m     \u001b[0;32mdef\u001b[0m \u001b[0mweather_update\u001b[0m\u001b[0;34m(\u001b[0m\u001b[0mself\u001b[0m\u001b[0;34m,\u001b[0m  \u001b[0mweather_img\u001b[0m\u001b[0;34m,\u001b[0m \u001b[0mweather_json\u001b[0m\u001b[0;34m)\u001b[0m\u001b[0;34m:\u001b[0m\u001b[0;34m\u001b[0m\u001b[0;34m\u001b[0m\u001b[0m\n",
      "\u001b[0;32m/usr/local/lib/python3.7/site-packages/pandas/core/frame.py\u001b[0m in \u001b[0;36m__setitem__\u001b[0;34m(self, key, value)\u001b[0m\n\u001b[1;32m   3598\u001b[0m             \u001b[0mself\u001b[0m\u001b[0;34m.\u001b[0m\u001b[0m_setitem_frame\u001b[0m\u001b[0;34m(\u001b[0m\u001b[0mkey\u001b[0m\u001b[0;34m,\u001b[0m \u001b[0mvalue\u001b[0m\u001b[0;34m)\u001b[0m\u001b[0;34m\u001b[0m\u001b[0;34m\u001b[0m\u001b[0m\n\u001b[1;32m   3599\u001b[0m         \u001b[0;32melif\u001b[0m \u001b[0misinstance\u001b[0m\u001b[0;34m(\u001b[0m\u001b[0mkey\u001b[0m\u001b[0;34m,\u001b[0m \u001b[0;34m(\u001b[0m\u001b[0mSeries\u001b[0m\u001b[0;34m,\u001b[0m \u001b[0mnp\u001b[0m\u001b[0;34m.\u001b[0m\u001b[0mndarray\u001b[0m\u001b[0;34m,\u001b[0m \u001b[0mlist\u001b[0m\u001b[0;34m,\u001b[0m \u001b[0mIndex\u001b[0m\u001b[0;34m)\u001b[0m\u001b[0;34m)\u001b[0m\u001b[0;34m:\u001b[0m\u001b[0;34m\u001b[0m\u001b[0;34m\u001b[0m\u001b[0m\n\u001b[0;32m-> 3600\u001b[0;31m             \u001b[0mself\u001b[0m\u001b[0;34m.\u001b[0m\u001b[0m_setitem_array\u001b[0m\u001b[0;34m(\u001b[0m\u001b[0mkey\u001b[0m\u001b[0;34m,\u001b[0m \u001b[0mvalue\u001b[0m\u001b[0;34m)\u001b[0m\u001b[0;34m\u001b[0m\u001b[0;34m\u001b[0m\u001b[0m\n\u001b[0m\u001b[1;32m   3601\u001b[0m         \u001b[0;32melif\u001b[0m \u001b[0misinstance\u001b[0m\u001b[0;34m(\u001b[0m\u001b[0mvalue\u001b[0m\u001b[0;34m,\u001b[0m \u001b[0mDataFrame\u001b[0m\u001b[0;34m)\u001b[0m\u001b[0;34m:\u001b[0m\u001b[0;34m\u001b[0m\u001b[0;34m\u001b[0m\u001b[0m\n\u001b[1;32m   3602\u001b[0m             \u001b[0mself\u001b[0m\u001b[0;34m.\u001b[0m\u001b[0m_set_item_frame_value\u001b[0m\u001b[0;34m(\u001b[0m\u001b[0mkey\u001b[0m\u001b[0;34m,\u001b[0m \u001b[0mvalue\u001b[0m\u001b[0;34m)\u001b[0m\u001b[0;34m\u001b[0m\u001b[0;34m\u001b[0m\u001b[0m\n",
      "\u001b[0;32m/usr/local/lib/python3.7/site-packages/pandas/core/frame.py\u001b[0m in \u001b[0;36m_setitem_array\u001b[0;34m(self, key, value)\u001b[0m\n\u001b[1;32m   3654\u001b[0m \u001b[0;34m\u001b[0m\u001b[0m\n\u001b[1;32m   3655\u001b[0m             \u001b[0;32melse\u001b[0m\u001b[0;34m:\u001b[0m\u001b[0;34m\u001b[0m\u001b[0;34m\u001b[0m\u001b[0m\n\u001b[0;32m-> 3656\u001b[0;31m                 \u001b[0mself\u001b[0m\u001b[0;34m.\u001b[0m\u001b[0m_iset_not_inplace\u001b[0m\u001b[0;34m(\u001b[0m\u001b[0mkey\u001b[0m\u001b[0;34m,\u001b[0m \u001b[0mvalue\u001b[0m\u001b[0;34m)\u001b[0m\u001b[0;34m\u001b[0m\u001b[0;34m\u001b[0m\u001b[0m\n\u001b[0m\u001b[1;32m   3657\u001b[0m \u001b[0;34m\u001b[0m\u001b[0m\n\u001b[1;32m   3658\u001b[0m     \u001b[0;32mdef\u001b[0m \u001b[0m_iset_not_inplace\u001b[0m\u001b[0;34m(\u001b[0m\u001b[0mself\u001b[0m\u001b[0;34m,\u001b[0m \u001b[0mkey\u001b[0m\u001b[0;34m,\u001b[0m \u001b[0mvalue\u001b[0m\u001b[0;34m)\u001b[0m\u001b[0;34m:\u001b[0m\u001b[0;34m\u001b[0m\u001b[0;34m\u001b[0m\u001b[0m\n",
      "\u001b[0;32m/usr/local/lib/python3.7/site-packages/pandas/core/frame.py\u001b[0m in \u001b[0;36m_iset_not_inplace\u001b[0;34m(self, key, value)\u001b[0m\n\u001b[1;32m   3673\u001b[0m         \u001b[0;32mif\u001b[0m \u001b[0mself\u001b[0m\u001b[0;34m.\u001b[0m\u001b[0mcolumns\u001b[0m\u001b[0;34m.\u001b[0m\u001b[0mis_unique\u001b[0m\u001b[0;34m:\u001b[0m\u001b[0;34m\u001b[0m\u001b[0;34m\u001b[0m\u001b[0m\n\u001b[1;32m   3674\u001b[0m             \u001b[0;32mif\u001b[0m \u001b[0mnp\u001b[0m\u001b[0;34m.\u001b[0m\u001b[0mshape\u001b[0m\u001b[0;34m(\u001b[0m\u001b[0mvalue\u001b[0m\u001b[0;34m)\u001b[0m\u001b[0;34m[\u001b[0m\u001b[0;34m-\u001b[0m\u001b[0;36m1\u001b[0m\u001b[0;34m]\u001b[0m \u001b[0;34m!=\u001b[0m \u001b[0mlen\u001b[0m\u001b[0;34m(\u001b[0m\u001b[0mkey\u001b[0m\u001b[0;34m)\u001b[0m\u001b[0;34m:\u001b[0m\u001b[0;34m\u001b[0m\u001b[0;34m\u001b[0m\u001b[0m\n\u001b[0;32m-> 3675\u001b[0;31m                 \u001b[0;32mraise\u001b[0m \u001b[0mValueError\u001b[0m\u001b[0;34m(\u001b[0m\u001b[0;34m\"Columns must be same length as key\"\u001b[0m\u001b[0;34m)\u001b[0m\u001b[0;34m\u001b[0m\u001b[0;34m\u001b[0m\u001b[0m\n\u001b[0m\u001b[1;32m   3676\u001b[0m \u001b[0;34m\u001b[0m\u001b[0m\n\u001b[1;32m   3677\u001b[0m             \u001b[0;32mfor\u001b[0m \u001b[0mi\u001b[0m\u001b[0;34m,\u001b[0m \u001b[0mcol\u001b[0m \u001b[0;32min\u001b[0m \u001b[0menumerate\u001b[0m\u001b[0;34m(\u001b[0m\u001b[0mkey\u001b[0m\u001b[0;34m)\u001b[0m\u001b[0;34m:\u001b[0m\u001b[0;34m\u001b[0m\u001b[0;34m\u001b[0m\u001b[0m\n",
      "\u001b[0;31mValueError\u001b[0m: Columns must be same length as key"
     ]
    }
   ],
   "source": [
    "data.weather_proportion_for_edges()"
   ]
  },
  {
   "cell_type": "code",
   "execution_count": null,
   "id": "3cc10e8d-bd03-4f93-8bc8-96bc9a2c1087",
   "metadata": {},
   "outputs": [],
   "source": [
    "data.df_combined"
   ]
  },
  {
   "cell_type": "code",
   "execution_count": 202,
   "id": "bd46c688-ad42-406c-b25f-ea0428a0aef2",
   "metadata": {},
   "outputs": [],
   "source": [
    "df_edges = pd.read_json('edges.json')\n",
    "df_edges = df_edges.rename(columns={0: 'A', 1: 'B'})\n",
    "\n",
    "df_fixes = pd.read_json('fixes.json')\n",
    "df_fixes = df_fixes.reindex(sorted(df_fixes.columns), axis=1).astype(np.float64).T"
   ]
  },
  {
   "cell_type": "code",
   "execution_count": 203,
   "id": "f8154c7e-8167-4fcc-802a-2d78e109eb4b",
   "metadata": {},
   "outputs": [
    {
     "name": "stdout",
     "output_type": "stream",
     "text": [
      "<class 'pandas.core.frame.DataFrame'>\n",
      "Index: 1103 entries, ABQ to ZUVKU\n",
      "Data columns (total 2 columns):\n",
      " #   Column     Non-Null Count  Dtype  \n",
      "---  ------     --------------  -----  \n",
      " 0   latitude   1103 non-null   float64\n",
      " 1   longitude  1103 non-null   float64\n",
      "dtypes: float64(2)\n",
      "memory usage: 25.9+ KB\n"
     ]
    }
   ],
   "source": [
    "df_fixes.info()"
   ]
  },
  {
   "cell_type": "code",
   "execution_count": null,
   "id": "09818e66-a6e4-4789-8248-72aaf9cb80f5",
   "metadata": {},
   "outputs": [],
   "source": [
    "df_edges.info()"
   ]
  },
  {
   "cell_type": "code",
   "execution_count": null,
   "id": "342f132a-8c31-473c-96bf-ae39f9a361dc",
   "metadata": {},
   "outputs": [],
   "source": [
    "w = weather.Weather()"
   ]
  },
  {
   "cell_type": "code",
   "execution_count": null,
   "id": "3ee20a48-79fa-43d6-acaf-1c98ecbfd858",
   "metadata": {},
   "outputs": [],
   "source": [
    "m = w.wmatrix()"
   ]
  },
  {
   "cell_type": "code",
   "execution_count": null,
   "id": "97afd46a-bed7-414d-ba25-8acb6a39fdd6",
   "metadata": {},
   "outputs": [],
   "source": [
    "m"
   ]
  },
  {
   "cell_type": "code",
   "execution_count": null,
   "id": "32f500da-3dca-4212-a117-d0ccfd9f00a2",
   "metadata": {},
   "outputs": [],
   "source": [
    "df_edges[df_edges['A'] == \"ADDVL\"]"
   ]
  },
  {
   "cell_type": "code",
   "execution_count": null,
   "id": "ee678780-50b3-461b-865b-45b1f5362878",
   "metadata": {},
   "outputs": [],
   "source": [
    "df_fixes"
   ]
  },
  {
   "cell_type": "code",
   "execution_count": null,
   "id": "5c38d7f8-dda9-47bf-9c49-2738e237e4fd",
   "metadata": {},
   "outputs": [],
   "source": [
    "geodesic([df_fixes.loc[\"KSFO\"][0], df_fixes.loc[\"KSFO\"][1]] ,[ df_fixes.loc[\"KJFK\"][0], df_fixes.loc[\"KJFK\"][1] ]).km"
   ]
  },
  {
   "cell_type": "code",
   "execution_count": null,
   "id": "d080df23-030c-4dcc-9e0a-cc0cee9528b5",
   "metadata": {},
   "outputs": [],
   "source": [
    "df_combined = df_edges"
   ]
  },
  {
   "cell_type": "code",
   "execution_count": null,
   "id": "874a4dad-e911-4d0b-ae68-75e85e5712c9",
   "metadata": {},
   "outputs": [],
   "source": [
    "df_combined[\"A_latitude\"] = df_combined['A'].map(df_fixes[\"latitude\"])\n",
    "df_combined[\"A_longitude\"] = df_combined['A'].map(df_fixes[\"longitude\"])\n",
    "df_combined[\"B_latitude\"] = df_combined['B'].map(df_fixes[\"latitude\"])\n",
    "df_combined[\"B_longitude\"] = df_combined['B'].map(df_fixes[\"longitude\"])"
   ]
  },
  {
   "cell_type": "code",
   "execution_count": null,
   "id": "aade37e9-1e05-44b5-ac7d-3c1a62206dbf",
   "metadata": {},
   "outputs": [],
   "source": [
    "df_combined"
   ]
  },
  {
   "cell_type": "code",
   "execution_count": null,
   "id": "6e279511-c840-4b7f-b5fb-b0f94640edb7",
   "metadata": {},
   "outputs": [],
   "source": [
    "df_combined[\"distance\"] = df_combined.apply(lambda x: geodesic([x[\"A_latitude\"], x[\"A_longitude\"]] , [x[\"B_latitude\"], x[\"B_longitude\"]]).km, axis=1)"
   ]
  },
  {
   "cell_type": "code",
   "execution_count": null,
   "id": "6f2ea753-40b0-455b-943d-10748b90676c",
   "metadata": {},
   "outputs": [],
   "source": [
    "df_combined"
   ]
  },
  {
   "cell_type": "code",
   "execution_count": null,
   "id": "6207c7dc-dd25-4023-b40c-d0371a1d447e",
   "metadata": {},
   "outputs": [],
   "source": [
    "plt.hist(df_combined[\"distance\"], 20)"
   ]
  },
  {
   "cell_type": "code",
   "execution_count": null,
   "id": "00192ff3-f9ba-4c4d-a783-52a913c4b9a9",
   "metadata": {},
   "outputs": [],
   "source": [
    "G = nx.Graph()\n",
    "G.add_edge(1, 2)  # default edge data=1\n",
    "G.add_edge(2, 3, weight=0.9)"
   ]
  },
  {
   "cell_type": "code",
   "execution_count": null,
   "id": "655782b7-4882-4588-a966-509a333e2216",
   "metadata": {},
   "outputs": [],
   "source": [
    "G"
   ]
  },
  {
   "cell_type": "code",
   "execution_count": null,
   "id": "b7c98556-a077-46a7-8d04-5d1c66e7cbf7",
   "metadata": {},
   "outputs": [],
   "source": [
    "nx.draw(G, with_labels = True)"
   ]
  },
  {
   "cell_type": "code",
   "execution_count": null,
   "id": "eb027587-9ed5-4bc1-9ee0-c278ff38169f",
   "metadata": {},
   "outputs": [],
   "source": [
    "elist = [('a', 'b', 1.0), ('b', 'c', 3.0), ('a', 'c', 1.0), ('c', 'd', 7.3)]\n",
    "G = nx.Graph()\n",
    "\n",
    "G.add_weighted_edges_from(elist)"
   ]
  },
  {
   "cell_type": "code",
   "execution_count": null,
   "id": "bc8d67a8-03dc-428c-8ab3-743504fe7c9b",
   "metadata": {},
   "outputs": [],
   "source": [
    "G"
   ]
  },
  {
   "cell_type": "code",
   "execution_count": null,
   "id": "564e6b5e-52b8-4945-820b-eb07812b0cce",
   "metadata": {},
   "outputs": [],
   "source": [
    "nx.draw(G, with_labels = True)"
   ]
  },
  {
   "cell_type": "code",
   "execution_count": null,
   "id": "ae65250e-dd0a-4878-8f14-7ab64413d1a7",
   "metadata": {},
   "outputs": [],
   "source": [
    "nx.astar_path(G, 'a', 'd')"
   ]
  },
  {
   "cell_type": "code",
   "execution_count": null,
   "id": "4efe3569-361b-451b-8c9e-9aa1fdcd5fcb",
   "metadata": {},
   "outputs": [],
   "source": [
    "G = nx.from_pandas_edgelist(df_combined, 'A', 'B', ['distance'])"
   ]
  },
  {
   "cell_type": "code",
   "execution_count": null,
   "id": "0be63a05-7d23-4193-997a-31067e411762",
   "metadata": {},
   "outputs": [],
   "source": [
    "G"
   ]
  },
  {
   "cell_type": "code",
   "execution_count": null,
   "id": "402a38de-baa9-4f2a-805d-777d033dab6a",
   "metadata": {},
   "outputs": [],
   "source": [
    "pos=nx.spring_layout(G)"
   ]
  },
  {
   "cell_type": "code",
   "execution_count": null,
   "id": "03febe8c-a285-4e4e-9ace-1c548836a729",
   "metadata": {},
   "outputs": [],
   "source": [
    "nx.draw(G, pos)"
   ]
  },
  {
   "cell_type": "code",
   "execution_count": null,
   "id": "c3e008e1-537e-49a8-bbe0-f3c8bb15b987",
   "metadata": {},
   "outputs": [],
   "source": [
    "nx.astar_path(G, 'ABQ', 'ADDVL')"
   ]
  },
  {
   "cell_type": "code",
   "execution_count": null,
   "id": "957d66e2-a8bb-4a87-8a57-6c00c48bf132",
   "metadata": {},
   "outputs": [],
   "source": [
    "nx.astar_path(G, 'ADDVL', 'ABQ')"
   ]
  },
  {
   "cell_type": "code",
   "execution_count": null,
   "id": "218d84ed-a3fd-458b-b157-759edfc33fe8",
   "metadata": {},
   "outputs": [],
   "source": [
    "nx.astar_path(G, 'KSFO', 'KJFK')"
   ]
  },
  {
   "cell_type": "code",
   "execution_count": null,
   "id": "8d984549-2bee-4836-a552-ded10a8ab0f7",
   "metadata": {},
   "outputs": [],
   "source": [
    "nx.path_weight(G, nx.astar_path(G, 'KSFO', 'KJFK'), weight = \"distance\")"
   ]
  },
  {
   "cell_type": "code",
   "execution_count": null,
   "id": "7d9aceb3-e3c4-4f30-9063-d2cadb1892ea",
   "metadata": {},
   "outputs": [],
   "source": [
    "df_combined.describe()"
   ]
  },
  {
   "cell_type": "code",
   "execution_count": null,
   "id": "63cc7e24-4ae8-468b-9ea1-ade068b20ddb",
   "metadata": {},
   "outputs": [],
   "source": [
    "nx.dijkstra_path(G, 'KSFO', 'ZORUN')"
   ]
  },
  {
   "cell_type": "code",
   "execution_count": null,
   "id": "21b888b3-0a65-4771-8ed6-ae7faec04afd",
   "metadata": {},
   "outputs": [],
   "source": []
  }
 ],
 "metadata": {
  "kernelspec": {
   "display_name": "Python 3 (ipykernel)",
   "language": "python",
   "name": "python3"
  },
  "language_info": {
   "codemirror_mode": {
    "name": "ipython",
    "version": 3
   },
   "file_extension": ".py",
   "mimetype": "text/x-python",
   "name": "python",
   "nbconvert_exporter": "python",
   "pygments_lexer": "ipython3",
   "version": "3.7.2"
  }
 },
 "nbformat": 4,
 "nbformat_minor": 5
}
