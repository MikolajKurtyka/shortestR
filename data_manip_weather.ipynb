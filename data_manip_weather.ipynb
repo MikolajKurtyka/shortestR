{
 "cells": [
  {
   "cell_type": "code",
   "execution_count": 36,
   "id": "17bb46c6-a978-4d43-97ac-6cceb622b44a",
   "metadata": {},
   "outputs": [],
   "source": [
    "import pandas as pd\n",
    "import matplotlib.pyplot as plt\n",
    "import matplotlib.image\n",
    "import numpy as np\n",
    "import json\n",
    "from skimage.draw import line\n",
    "from geographiclib.geodesic import Geodesic\n",
    "import math"
   ]
  },
  {
   "cell_type": "code",
   "execution_count": 37,
   "id": "8accd2bb-b587-4c7f-a4bd-cd3c00733133",
   "metadata": {
    "tags": []
   },
   "outputs": [],
   "source": [
    "class Weather():\n",
    "    def __init__(self, weather_img = \"weather.png\" , weather_json = \"weather.json\"):\n",
    "        \n",
    "        self.weather_matrix = self.to_matrix(weather_img).astype(np.int8)\n",
    "        self.bottom_right, self.top_left = self.coordinates(weather_json)\n",
    "        \n",
    "    def coordinates(self, weather_json):\n",
    "        weather_coordinates = json.load(open('weather.json'))\n",
    "        \n",
    "        return [weather_coordinates[\"bottom_right\"][\"latitude\"], weather_coordinates[\"bottom_right\"][\"longitude\"]] \\\n",
    "                 , [ weather_coordinates[\"top_left\"][\"latitude\"], weather_coordinates[\"top_left\"][\"longitude\"]]\n",
    "    def br(self):\n",
    "        return self.bottom_right\n",
    "    def tl(self):\n",
    "        return self.top_left\n",
    "    \n",
    "    def to_matrix(self, weather_img):\n",
    "        \n",
    "        weather_matrix = np.array(matplotlib.image.imread(weather_img)[: ,: , 1])\n",
    "        un = np.unique(weather_matrix[0], axis = 0)\n",
    "        \n",
    "        def map_green(x):\n",
    "            return (np.isclose(x , un[1]))\n",
    "        def map_yellow(x):\n",
    "            return (np.isclose(x , un[2]))\n",
    "        \n",
    "        return weather_matrix*0 + map_green(weather_matrix)*1 + map_yellow(weather_matrix)*2\n",
    "    \n",
    "    def wmatrix(self):\n",
    "        \n",
    "        return self.weather_matrix\n",
    "    \n",
    "    def weight_between_points(self, p1, p2):\n",
    "        \n",
    "        assert (abs(self.bottom_right[0]) < abs(p1[0]) and abs(p1[0]) < abs(self.top_left[0])) and (abs(self.bottom_right[1]) < abs(p1[1]) and abs(p1[1]) < abs(self.top_left[1]))\n",
    "        assert (abs(self.bottom_right[0]) < abs(p2[0]) and abs(p2[0]) < abs(self.top_left[0])) and (abs(self.bottom_right[1]) < abs(p2[1]) and abs(p2[1]) < abs(self.top_left[1]))\n",
    "        \n",
    "        p1_idx_x, p1_idx_y = self.coordinates_to_pixel_idx(p1)\n",
    "        p2_idx_x, p2_idx_y = self.coordinates_to_pixel_idx(p2)\n",
    "\n",
    "        weight_of_pixels_in_line = self.weather_matrix[line(p1_idx_x, p1_idx_y, p2_idx_x, p2_idx_y)]\n",
    "                \n",
    "        val_counts =  np.array(np.unique(weight_of_pixels_in_line, return_counts = True))\n",
    "        \n",
    "        weather = [0, 0, 0]\n",
    "        for i in range(0, len(val_counts[0])):\n",
    "            weather[val_counts[0][i]] = val_counts[1][i] \n",
    "        \n",
    "        return np.array(weather)\n",
    "        \n",
    "    def coordinates_to_pixel_idx(self, point):\n",
    "        \n",
    "        x_array = np.arange(self.top_left[0], self.bottom_right[0], (self.bottom_right[0]-self.top_left[0])/self.weather_matrix.shape[0])\n",
    "        y_array = np.arange(self.top_left[1], self.bottom_right[1], (self.bottom_right[1]-self.top_left[1])/self.weather_matrix.shape[1])\n",
    "\n",
    "        return  np.abs(x_array - point[0]).argmin(), np.abs(y_array - point[1]).argmin()"
   ]
  },
  {
   "cell_type": "code",
   "execution_count": 231,
   "id": "97f45fbf-f38a-4bab-9c92-f2fd6b4981e2",
   "metadata": {},
   "outputs": [],
   "source": [
    "class Projection:\n",
    "    def __init__(self, weather_json_coordinates = \"weather.json\", weather_img = \"weather.png\"):\n",
    "        self.geod = Geodesic.WGS84\n",
    "        self.bottom_right, self.top_left = self.coordinates(weather_json_coordinates)\n",
    "        self.weather_matrix_shape = np.array(matplotlib.image.imread(weather_img)).shape\n",
    "        \n",
    "        self.x_grid = np.arange(self.top_left[0], self.bottom_right[0], (self.bottom_right[0]-self.top_left[0])/self.weather_matrix_shape[0])\n",
    "        self.y_grid = np.arange(self.top_left[1], self.bottom_right[1], (self.bottom_right[1]-self.top_left[1])/self.weather_matrix_shape[1])\n",
    "    \n",
    "    \n",
    "    \n",
    "    def coordinates(self, weather_json):\n",
    "        weather_coordinates = json.load(open('weather.json'))\n",
    "        \n",
    "        return [weather_coordinates[\"bottom_right\"][\"latitude\"], weather_coordinates[\"bottom_right\"][\"longitude\"]] \\\n",
    "                 , [ weather_coordinates[\"top_left\"][\"latitude\"], weather_coordinates[\"top_left\"][\"longitude\"]]\n",
    "    \n",
    "    def distance(self, lat1, lon1, lat2, lon2):\n",
    "        return self.geod.Inverse(lat1, lon1, lat2, lon2, Geodesic.DISTANCE)['s12']/1000\n",
    "    \n",
    "    def waypoints(self, lat1, lon1, lat2, lon2, ds = 60e3):\n",
    "        line = self.geod.InverseLine(lat1, lon1, lat2, lon2)\n",
    "        n_steps = int(math.ceil(line.s13 / ds))\n",
    "                      \n",
    "        coordinates_list_lat = []\n",
    "        coordinates_list_lon = []\n",
    "\n",
    "        for i in range(n_steps + 1):\n",
    "            s = min(ds * i, line.s13)\n",
    "            g = line.Position(s, Geodesic.LATITUDE | Geodesic.LONGITUDE | Geodesic.LONG_UNROLL)\n",
    "            coordinates_list_lat.append(g['lat2'])\n",
    "            coordinates_list_lon.append(g['lon2'])\n",
    "            \n",
    "        return np.array(coordinates_list_lat) , np.array(coordinates_list_lon)\n",
    "    \n",
    "    def waypoints_as_idx(self, lat1, lon1, lat2, lon2, ds = 60e3):\n",
    "\n",
    "        waypoints_x_idx ,waypoints_y_idx = self.waypoints( lat1, lon1, lat2, lon2, ds)\n",
    "        \n",
    "        for i in range(0, len(waypoints_x_idx)):\n",
    "            waypoints_x_idx[i] = np.abs(self.x_grid - waypoints_x_idx[i]).argmin()\n",
    "            waypoints_y_idx[i] = np.abs(self.y_grid - waypoints_y_idx[i]).argmin()\n",
    "        \n",
    "        return waypoints_x_idx, waypoints_y_idx\n",
    "    \n",
    "    def shortest_path_as_idx(self, lat1, lon1, lat2, lon2, ds = 60e3):\n",
    "        \n",
    "\n",
    "    def coordinates_to_pixel_idx(self, point):\n",
    "        \n",
    "        x_array = np.arange(self.top_left[0], self.bottom_right[0], (self.bottom_right[0]-self.top_left[0])/self.weather_matrix_shape[0])\n",
    "        y_array = np.arange(self.top_left[1], self.bottom_right[1], (self.bottom_right[1]-self.top_left[1])/self.weather_matrix_shape[1])\n",
    "\n",
    "        return  np.abs(x_array - point[0]).argmin(), np.abs(y_array - point[1]).argmin()"
   ]
  },
  {
   "cell_type": "code",
   "execution_count": 232,
   "id": "20ce0d55-52ed-484a-aee5-4a3d08576dc6",
   "metadata": {},
   "outputs": [],
   "source": [
    "cord = Projection()"
   ]
  },
  {
   "cell_type": "code",
   "execution_count": 233,
   "id": "47703027-9125-43d1-986a-0a74a7878469",
   "metadata": {},
   "outputs": [
    {
     "data": {
      "text/plain": [
       "1001.5433136544921"
      ]
     },
     "execution_count": 233,
     "metadata": {},
     "output_type": "execute_result"
    }
   ],
   "source": [
    "cord.distance(35.043794, -106.816311, 34.702697, -95.864267)"
   ]
  },
  {
   "cell_type": "code",
   "execution_count": 234,
   "id": "930fed1f-e6cd-4ee5-b624-cb9305e3931a",
   "metadata": {},
   "outputs": [
    {
     "data": {
      "text/plain": [
       "(array([784., 784., 784., 784., 784., 784., 785., 785., 786., 787., 788.,\n",
       "        789., 790., 791., 793., 794., 796., 797.]),\n",
       " array([ 748.,  766.,  783.,  801.,  818.,  836.,  853.,  870.,  888.,\n",
       "         905.,  923.,  940.,  958.,  975.,  992., 1010., 1027., 1039.]))"
      ]
     },
     "execution_count": 234,
     "metadata": {},
     "output_type": "execute_result"
    }
   ],
   "source": [
    "cord.waypoints_as_idx(35.043794, -106.816311, 34.702697, -95.864267)"
   ]
  },
  {
   "cell_type": "code",
   "execution_count": 235,
   "id": "1e2ec67a-9537-40cb-a5d5-808543f43524",
   "metadata": {},
   "outputs": [
    {
     "data": {
      "text/plain": [
       "(array([35.043794  , 35.0512608 , 35.05516282, 35.05549922, 35.05226991,\n",
       "        35.0454756 , 35.03511776, 35.02119865, 35.00372129, 34.98268945,\n",
       "        34.9581077 , 34.92998134, 34.89831643, 34.86311981, 34.82439902,\n",
       "        34.78216235, 34.73641884, 34.702697  ]),\n",
       " array([-106.816311  , -106.15873269, -105.50106325, -104.84335983,\n",
       "        -104.1856796 , -103.52807973, -102.87061729, -102.21334925,\n",
       "        -101.55633242, -100.89962336, -100.24327838,  -99.58735348,\n",
       "         -98.93190428,  -98.27698601,  -97.62265341,  -96.96896074,\n",
       "         -96.3159617 ,  -95.864267  ]))"
      ]
     },
     "execution_count": 235,
     "metadata": {},
     "output_type": "execute_result"
    }
   ],
   "source": [
    "cord.waypoints(35.043794, -106.816311, 34.702697, -95.864267)"
   ]
  },
  {
   "cell_type": "code",
   "execution_count": null,
   "id": "7ef2e453-713c-449c-8534-72687491987d",
   "metadata": {},
   "outputs": [],
   "source": [
    "l = geod.InverseLine(35.043794, -106.816311, 33.371758, -96.361231)\n",
    "ds = 60e3; n = int(math.ceil(l.s13 / ds))\n",
    "for i in range(n + 1):\n",
    "    if i == 0:\n",
    "        print(\"distance latitude longitude azimuth\")\n",
    "    s = min(ds * i, l.s13)\n",
    "    g = l.Position(s, Geodesic.LATITUDE | Geodesic.LONGITUDE )\n",
    "    print(\"{:.0f} {:.5f} {:.5f}\".format(\n",
    "    g['s12'], g['lat2'], g['lon2']))"
   ]
  },
  {
   "cell_type": "code",
   "execution_count": 44,
   "id": "0923c179-0fef-47c2-a97a-f214fdd1ac78",
   "metadata": {},
   "outputs": [],
   "source": [
    "w = Weather()"
   ]
  },
  {
   "cell_type": "code",
   "execution_count": 6,
   "id": "0583062e-9ddc-4ff2-8e76-d3579884e13d",
   "metadata": {},
   "outputs": [],
   "source": [
    "#plt.figure(figsize = (20, 20))\n",
    "#plt.imshow(w.wmatrix())"
   ]
  },
  {
   "cell_type": "code",
   "execution_count": 7,
   "id": "65094ab7-1512-4ddb-af18-52eafe4d1371",
   "metadata": {},
   "outputs": [],
   "source": [
    "br = w.br()"
   ]
  },
  {
   "cell_type": "code",
   "execution_count": 8,
   "id": "06458300-accb-48ab-aca1-de64dfa55f1c",
   "metadata": {},
   "outputs": [],
   "source": [
    "tl = w.tl()"
   ]
  },
  {
   "cell_type": "code",
   "execution_count": 9,
   "id": "0e3d8fc8-b001-44fa-80bb-c272929c7ff6",
   "metadata": {},
   "outputs": [
    {
     "data": {
      "text/plain": [
       "[21.94, -67.5]"
      ]
     },
     "execution_count": 9,
     "metadata": {},
     "output_type": "execute_result"
    }
   ],
   "source": [
    "br"
   ]
  },
  {
   "cell_type": "code",
   "execution_count": 10,
   "id": "f77ca691-ec81-46a5-b3a3-4dba2db35cd5",
   "metadata": {},
   "outputs": [
    {
     "data": {
      "text/plain": [
       "[55.78, -135.0]"
      ]
     },
     "execution_count": 10,
     "metadata": {},
     "output_type": "execute_result"
    }
   ],
   "source": [
    "tl"
   ]
  },
  {
   "cell_type": "code",
   "execution_count": 11,
   "id": "42314a4e-3df1-46e3-999a-6144f77c68d7",
   "metadata": {},
   "outputs": [
    {
     "data": {
      "text/plain": [
       "array([140,  90,  49])"
      ]
     },
     "execution_count": 11,
     "metadata": {},
     "output_type": "execute_result"
    }
   ],
   "source": [
    "w.weight_between_points([35.043794, -106.816311], [33.371758, -96.361231])"
   ]
  },
  {
   "cell_type": "code",
   "execution_count": 22,
   "id": "2f76c1a7-64dc-4dd2-9bf6-a5e892bf3899",
   "metadata": {},
   "outputs": [],
   "source": [
    "weather_matrix = w.wmatrix()"
   ]
  },
  {
   "cell_type": "code",
   "execution_count": 28,
   "id": "e626e56f-c4fe-4823-befc-604ddb0a90c1",
   "metadata": {},
   "outputs": [],
   "source": [
    "x_array = np.arange(tl[0], br[0], (br[0]-tl[0])/weather_matrix.shape[0])\n",
    "y_array = np.arange(tl[1], br[1], (br[1]-tl[1])/weather_matrix.shape[0])"
   ]
  },
  {
   "cell_type": "code",
   "execution_count": 29,
   "id": "fb66c41e-fe4e-4608-9119-fcd367e1a270",
   "metadata": {},
   "outputs": [
    {
     "data": {
      "text/plain": [
       "array([55.78     , 55.7535625, 55.727125 , ..., 22.0193125, 21.992875 ,\n",
       "       21.9664375])"
      ]
     },
     "execution_count": 29,
     "metadata": {},
     "output_type": "execute_result"
    }
   ],
   "source": [
    "x_array"
   ]
  },
  {
   "cell_type": "code",
   "execution_count": 30,
   "id": "fddf2d9b-a463-49e6-b741-c16b1a4d1f91",
   "metadata": {},
   "outputs": [
    {
     "data": {
      "text/plain": [
       "-0.026437500000000003"
      ]
     },
     "execution_count": 30,
     "metadata": {},
     "output_type": "execute_result"
    }
   ],
   "source": [
    "(br[0]-tl[0])/weather_matrix.shape[0]"
   ]
  },
  {
   "cell_type": "code",
   "execution_count": 31,
   "id": "90953c3b-9220-4b6e-a754-33728a8961be",
   "metadata": {},
   "outputs": [
    {
     "data": {
      "text/plain": [
       "0.052734375"
      ]
     },
     "execution_count": 31,
     "metadata": {},
     "output_type": "execute_result"
    }
   ],
   "source": [
    "(br[1]-tl[1])/weather_matrix.shape[0]"
   ]
  },
  {
   "cell_type": "code",
   "execution_count": 32,
   "id": "9afe40ef-f006-49d5-aed6-7ff6b10123a7",
   "metadata": {},
   "outputs": [
    {
     "data": {
      "text/plain": [
       "array([-135.        , -134.94726562, -134.89453125, ...,  -67.65820312,\n",
       "        -67.60546875,  -67.55273438])"
      ]
     },
     "execution_count": 32,
     "metadata": {},
     "output_type": "execute_result"
    }
   ],
   "source": [
    "y_array"
   ]
  },
  {
   "cell_type": "code",
   "execution_count": null,
   "id": "5c7730a8-35bd-487b-aca7-40840e5959d6",
   "metadata": {},
   "outputs": [],
   "source": []
  }
 ],
 "metadata": {
  "kernelspec": {
   "display_name": "Python 3 (ipykernel)",
   "language": "python",
   "name": "python3"
  },
  "language_info": {
   "codemirror_mode": {
    "name": "ipython",
    "version": 3
   },
   "file_extension": ".py",
   "mimetype": "text/x-python",
   "name": "python",
   "nbconvert_exporter": "python",
   "pygments_lexer": "ipython3",
   "version": "3.7.2"
  }
 },
 "nbformat": 4,
 "nbformat_minor": 5
}
