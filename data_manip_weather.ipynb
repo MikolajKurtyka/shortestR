{
 "cells": [
  {
   "cell_type": "code",
   "execution_count": 426,
   "id": "17bb46c6-a978-4d43-97ac-6cceb622b44a",
   "metadata": {},
   "outputs": [],
   "source": [
    "import pandas as pd\n",
    "import matplotlib.pyplot as plt\n",
    "import matplotlib.image\n",
    "import numpy as np\n",
    "import json\n",
    "from skimage.draw import line"
   ]
  },
  {
   "cell_type": "code",
   "execution_count": 427,
   "id": "8accd2bb-b587-4c7f-a4bd-cd3c00733133",
   "metadata": {
    "tags": []
   },
   "outputs": [],
   "source": [
    "class Weather():\n",
    "    def __init__(self, weather_img = \"weather.png\" , weather_json = \"weather.json\"):\n",
    "        self.weather_matrix = self.to_matrix(weather_img).astype(np.int8)\n",
    "        \n",
    "        self.bottom_right, self.top_left = self.coordinates(weather_json)\n",
    "        \n",
    "    def coordinates(self, weather_json):\n",
    "        weather_coordinates = json.load(open('weather.json'))\n",
    "        \n",
    "        return [weather_coordinates[\"bottom_right\"][\"latitude\"], weather_coordinates[\"bottom_right\"][\"longitude\"]] \\\n",
    "                 , [ weather_coordinates[\"top_left\"][\"latitude\"], weather_coordinates[\"top_left\"][\"longitude\"]]\n",
    "    def br(self):\n",
    "        return self.bottom_right\n",
    "    def tl(self):\n",
    "        return self.top_left\n",
    "    \n",
    "    def to_matrix(self, weather_img):\n",
    "        \n",
    "        weather_matrix = np.array(matplotlib.image.imread(weather_img)[: ,: , 1])\n",
    "        un = np.unique(weather_matrix[0], axis = 0)\n",
    "        \n",
    "        def map_green(x):\n",
    "            return (np.isclose(x , un[1]))\n",
    "        def map_yellow(x):\n",
    "            return (np.isclose(x , un[2]))\n",
    "        \n",
    "        return weather_matrix*0 + map_green(weather_matrix)*1 + map_yellow(weather_matrix)*2\n",
    "    \n",
    "    def wmatrix(self):\n",
    "        \n",
    "        return self.weather_matrix\n",
    "    \n",
    "    def weight_between_points(self, p1, p2):\n",
    "        \n",
    "        assert (abs(self.bottom_right[0]) < abs(p1[0]) and abs(p1[0]) < abs(self.top_left[0])) and (abs(self.bottom_right[1]) < abs(p1[1]) and abs(p1[1]) < abs(self.top_left[1]))\n",
    "        assert (abs(self.bottom_right[0]) < abs(p2[0]) and abs(p2[0]) < abs(self.top_left[0])) and (abs(self.bottom_right[1]) < abs(p2[1]) and abs(p2[1]) < abs(self.top_left[1]))\n",
    "        \n",
    "        p1_idx_x, p1_idx_y = self.coordinates_to_pixel_idx(p1)\n",
    "        p2_idx_x, p2_idx_y = self.coordinates_to_pixel_idx(p2)\n",
    "\n",
    "        weight_of_pixels_in_line = self.weather_matrix[line(p1_idx_x, p1_idx_y, p2_idx_x, p2_idx_y)]\n",
    "                \n",
    "        val_counts =  np.array(np.unique(weight_of_pixels_in_line, return_counts = True))\n",
    "        \n",
    "        weather = [0, 0, 0]\n",
    "        for i in range(0, len(val_counts[0])):\n",
    "            weather[val_counts[0][i]] = val_counts[1][i] \n",
    "        \n",
    "        return weather\n",
    "        \n",
    "    def coordinates_to_pixel_idx(self, point):\n",
    "        \n",
    "        x_array = np.arange(self.top_left[0], self.bottom_right[0], (self.bottom_right[0]-self.top_left[0])/self.weather_matrix.shape[0])\n",
    "        y_array = np.arange(self.top_left[1], self.bottom_right[1], (self.bottom_right[1]-self.top_left[1])/self.weather_matrix.shape[1])\n",
    "\n",
    "        return  np.abs(x_array - point[0]).argmin(), np.abs(y_array - point[1]).argmin()"
   ]
  },
  {
   "cell_type": "code",
   "execution_count": 428,
   "id": "0923c179-0fef-47c2-a97a-f214fdd1ac78",
   "metadata": {},
   "outputs": [],
   "source": [
    "w = Weather()"
   ]
  },
  {
   "cell_type": "code",
   "execution_count": 436,
   "id": "0583062e-9ddc-4ff2-8e76-d3579884e13d",
   "metadata": {},
   "outputs": [],
   "source": [
    "#plt.figure(figsize = (20, 20))\n",
    "#plt.imshow(w.wmatrix())"
   ]
  },
  {
   "cell_type": "code",
   "execution_count": 430,
   "id": "65094ab7-1512-4ddb-af18-52eafe4d1371",
   "metadata": {},
   "outputs": [],
   "source": [
    "br = w.br()"
   ]
  },
  {
   "cell_type": "code",
   "execution_count": 431,
   "id": "06458300-accb-48ab-aca1-de64dfa55f1c",
   "metadata": {},
   "outputs": [],
   "source": [
    "tl = w.tl()"
   ]
  },
  {
   "cell_type": "code",
   "execution_count": 432,
   "id": "0e3d8fc8-b001-44fa-80bb-c272929c7ff6",
   "metadata": {},
   "outputs": [
    {
     "data": {
      "text/plain": [
       "[21.94, -67.5]"
      ]
     },
     "execution_count": 432,
     "metadata": {},
     "output_type": "execute_result"
    }
   ],
   "source": [
    "br"
   ]
  },
  {
   "cell_type": "code",
   "execution_count": 433,
   "id": "f77ca691-ec81-46a5-b3a3-4dba2db35cd5",
   "metadata": {},
   "outputs": [
    {
     "data": {
      "text/plain": [
       "[55.78, -135.0]"
      ]
     },
     "execution_count": 433,
     "metadata": {},
     "output_type": "execute_result"
    }
   ],
   "source": [
    "tl"
   ]
  },
  {
   "cell_type": "code",
   "execution_count": 434,
   "id": "42314a4e-3df1-46e3-999a-6144f77c68d7",
   "metadata": {},
   "outputs": [
    {
     "data": {
      "text/plain": [
       "[140, 90, 49]"
      ]
     },
     "execution_count": 434,
     "metadata": {},
     "output_type": "execute_result"
    }
   ],
   "source": [
    "w.weight_between_points([35.043794, -106.816311], [33.371758, -96.361231])"
   ]
  },
  {
   "cell_type": "code",
   "execution_count": null,
   "id": "e938c13a-5d50-415a-b962-6750008c4936",
   "metadata": {},
   "outputs": [],
   "source": []
  }
 ],
 "metadata": {
  "kernelspec": {
   "display_name": "Python 3 (ipykernel)",
   "language": "python",
   "name": "python3"
  },
  "language_info": {
   "codemirror_mode": {
    "name": "ipython",
    "version": 3
   },
   "file_extension": ".py",
   "mimetype": "text/x-python",
   "name": "python",
   "nbconvert_exporter": "python",
   "pygments_lexer": "ipython3",
   "version": "3.7.2"
  }
 },
 "nbformat": 4,
 "nbformat_minor": 5
}
